{
  "nbformat": 4,
  "nbformat_minor": 0,
  "metadata": {
    "colab": {
      "provenance": [],
      "authorship_tag": "ABX9TyOoiD5lSdNwics+n3RhLtWr",
      "include_colab_link": true
    },
    "kernelspec": {
      "name": "python3",
      "display_name": "Python 3"
    },
    "language_info": {
      "name": "python"
    }
  },
  "cells": [
    {
      "cell_type": "markdown",
      "metadata": {
        "id": "view-in-github",
        "colab_type": "text"
      },
      "source": [
        "<a href=\"https://colab.research.google.com/github/SonaliSG/Practice-Codes/blob/main/Insurance_PPI_EDA%26Model1.ipynb\" target=\"_parent\"><img src=\"https://colab.research.google.com/assets/colab-badge.svg\" alt=\"Open In Colab\"/></a>"
      ]
    },
    {
      "cell_type": "code",
      "execution_count": 5,
      "metadata": {
        "colab": {
          "base_uri": "https://localhost:8080/",
          "height": 1000
        },
        "id": "4iTGr-tMrEoO",
        "outputId": "19c7c2fc-ed30-41b9-e423-69e4d4b63b75"
      },
      "outputs": [
        {
          "output_type": "stream",
          "name": "stdout",
          "text": [
            "<class 'pandas.core.frame.DataFrame'>\n",
            "RangeIndex: 16383 entries, 0 to 16382\n",
            "Data columns (total 59 columns):\n",
            " #   Column                            Non-Null Count  Dtype  \n",
            "---  ------                            --------------  -----  \n",
            " 0   Ref                               16383 non-null  int64  \n",
            " 1   Credit_Score                      16383 non-null  int64  \n",
            " 2   Final_Grade                       16383 non-null  object \n",
            " 3   Term                              16383 non-null  int64  \n",
            " 4   Net_Advance                       16383 non-null  float64\n",
            " 5   APR                               16383 non-null  float64\n",
            " 6   Loan_Type                         16383 non-null  object \n",
            " 7   Mosaic                            16383 non-null  int64  \n",
            " 8   Mosaic_Class                      16383 non-null  int64  \n",
            " 9   Time_at_Address                   16383 non-null  int64  \n",
            " 10  Residential_Status                16383 non-null  object \n",
            " 11  Telephone_Indicator               16383 non-null  object \n",
            " 12  Number_of_Dependants              16383 non-null  int64  \n",
            " 13  Marital_Status                    16383 non-null  object \n",
            " 14  Gender                            16383 non-null  object \n",
            " 15  Time_in_Employment                16383 non-null  int64  \n",
            " 16  Employment_Status                 16383 non-null  object \n",
            " 17  Full_Part_Time_Empl_Ind           16383 non-null  object \n",
            " 18  Perm_Temp_Empl_Ind                16383 non-null  object \n",
            " 19  Income_Range                      16383 non-null  int64  \n",
            " 20  Current_Account                   16383 non-null  object \n",
            " 21  ACCESS_Card                       16383 non-null  object \n",
            " 22  VISA_Card                         16383 non-null  object \n",
            " 23  American_Express                  16383 non-null  object \n",
            " 24  Diners_Card                       16383 non-null  object \n",
            " 25  Cheque_Guarantee                  16383 non-null  object \n",
            " 26  Other_Credit_Store_Card           16383 non-null  object \n",
            " 27  Time_with_Bank                    16383 non-null  int64  \n",
            " 28  Value_of_Property                 16383 non-null  int64  \n",
            " 29  Outstanding_Mortgage_Bal          16383 non-null  int64  \n",
            " 30  Total_Outstanding_Balances        16383 non-null  int64  \n",
            " 31  Bureau_Data___Monthly_Other_Co_R  16383 non-null  int64  \n",
            " 32  Worst_History_CT                  16383 non-null  int64  \n",
            " 33  Payment_Method                    16383 non-null  object \n",
            " 34  Age                               16383 non-null  int64  \n",
            " 35  Total_outstanding_balance__mortg  16383 non-null  int64  \n",
            " 36  Total___Public_Info___CCJ____ban  16383 non-null  int64  \n",
            " 37  Total_value__Public_Info___CCJ__  16383 non-null  int64  \n",
            " 38  Time_since_most_recent_Public_In  16383 non-null  int64  \n",
            " 39  Total_value__CAIS_8_9s            16383 non-null  int64  \n",
            " 40  Worst_status_L6m                  16383 non-null  int64  \n",
            " 41  Worst_CUrrent_Status              16383 non-null  int64  \n",
            " 42  __of_status_3_s_L6m               16383 non-null  int64  \n",
            " 43  Searches___Total___L6m            16383 non-null  int64  \n",
            " 44  Years_on_ER_for_SP                16383 non-null  int64  \n",
            " 45  Bankruptcy_Detected__SP_          16383 non-null  object \n",
            " 46  Total___outstanding_CCJ_s         16383 non-null  int64  \n",
            " 47  Total_outstanding_balance___excl  16383 non-null  int64  \n",
            " 48  Total___of_accounts               16383 non-null  int64  \n",
            " 49  CIFAS_detected                    16383 non-null  object \n",
            " 50  Time_since_most_recent_outstandi  16383 non-null  int64  \n",
            " 51  Insurance_Description             9461 non-null   object \n",
            " 52  PPI                               16383 non-null  int64  \n",
            " 53  code                              9405 non-null   float64\n",
            " 54  prdt_desc                         9345 non-null   object \n",
            " 55  category                          9461 non-null   object \n",
            " 56  PPI_SINGLE                        16383 non-null  int64  \n",
            " 57  PPI_JOINT                         16383 non-null  int64  \n",
            " 58  PPI_LCI                           16383 non-null  int64  \n",
            "dtypes: float64(3), int64(34), object(22)\n",
            "memory usage: 7.4+ MB\n"
          ]
        },
        {
          "output_type": "execute_result",
          "data": {
            "text/plain": [
              "<seaborn.axisgrid.FacetGrid at 0x7992f7b6afb0>"
            ]
          },
          "metadata": {},
          "execution_count": 5
        },
        {
          "output_type": "display_data",
          "data": {
            "text/plain": [
              "<Figure size 500x500 with 1 Axes>"
            ],
            "image/png": "[encoded data removed]"
          },
          "metadata": {}
        }
      ],
      "source": [
        "import pandas as pd\n",
        "\n",
        "import numpy as np\n",
        "\n",
        "import matplotlib.pyplot as plt\n",
        "\n",
        "import seaborn as sns\n",
        "\n",
        "\n",
        "df= pd.read_excel('/Cross Marketing Use Case.xlsx')\n",
        "df.shape\n",
        "df.head()\n",
        "df.info()\n",
        "df.isna()\n",
        "\n",
        "sns.displot(df['Age'])"
      ]
    }
  ]
}