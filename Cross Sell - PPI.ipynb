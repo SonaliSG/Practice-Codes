{
 "cells": [
  {
   "cell_type": "code",
   "execution_count": 182,
   "id": "e69b15b7",
   "metadata": {
    "scrolled": true
   },
   "outputs": [
    {
     "name": "stdout",
     "output_type": "stream",
     "text": [
      "Requirement already satisfied: imblearn in c:\\users\\sonali.sengupta\\anaconda3\\lib\\site-packages (0.0)\n",
      "Requirement already satisfied: imbalanced-learn in c:\\users\\sonali.sengupta\\anaconda3\\lib\\site-packages (from imblearn) (0.9.0)\n",
      "Requirement already satisfied: scikit-learn>=1.0.1 in c:\\users\\sonali.sengupta\\anaconda3\\lib\\site-packages (from imbalanced-learn->imblearn) (1.0.2)\n",
      "Requirement already satisfied: numpy>=1.14.6 in c:\\users\\sonali.sengupta\\anaconda3\\lib\\site-packages (from imbalanced-learn->imblearn) (1.20.1)\n",
      "Requirement already satisfied: scipy>=1.1.0 in c:\\users\\sonali.sengupta\\anaconda3\\lib\\site-packages (from imbalanced-learn->imblearn) (1.6.2)\n",
      "Requirement already satisfied: threadpoolctl>=2.0.0 in c:\\users\\sonali.sengupta\\anaconda3\\lib\\site-packages (from imbalanced-learn->imblearn) (2.1.0)\n",
      "Requirement already satisfied: joblib>=0.11 in c:\\users\\sonali.sengupta\\anaconda3\\lib\\site-packages (from imbalanced-learn->imblearn) (1.0.1)\n"
     ]
    }
   ],
   "source": [
    "import pandas as pd\n",
    "\n",
    "import numpy as np\n",
    "\n",
    "import matplotlib.pyplot as plt\n",
    "\n",
    "import seaborn as sns\n",
    "\n",
    "!pip install imblearn\n",
    "\n",
    "from sklearn.metrics import accuracy_score, f1_score,auc\n",
    "\n",
    "from sklearn.linear_model import LogisticRegression\n",
    "\n",
    "from sklearn.tree import DecisionTreeClassifier\n",
    "\n",
    "from sklearn.model_selection import GridSearchCV\n",
    "\n",
    "from sklearn.ensemble import RandomForestClassifier"
   ]
  },
  {
   "cell_type": "code",
   "execution_count": 4,
   "id": "dcfa506f",
   "metadata": {},
   "outputs": [
    {
     "name": "stdout",
     "output_type": "stream",
     "text": [
      "<class 'pandas.core.frame.DataFrame'>\n",
      "RangeIndex: 16383 entries, 0 to 16382\n",
      "Data columns (total 66 columns):\n",
      " #   Column                            Non-Null Count  Dtype  \n",
      "---  ------                            --------------  -----  \n",
      " 0   Ref                               16383 non-null  int64  \n",
      " 1   Credit_Score                      16383 non-null  int64  \n",
      " 2   Final_Grade                       16383 non-null  object \n",
      " 3   Term                              16383 non-null  int64  \n",
      " 4   Net_Advance                       16383 non-null  float64\n",
      " 5   APR                               16383 non-null  float64\n",
      " 6   Loan_Type                         16383 non-null  object \n",
      " 7   Mosaic                            16383 non-null  int64  \n",
      " 8   Mosaic_Class                      16383 non-null  int64  \n",
      " 9   Time_at_Address                   16383 non-null  int64  \n",
      " 10  Residential_Status                16383 non-null  object \n",
      " 11  Telephone_Indicator               16383 non-null  object \n",
      " 12  Number_of_Dependants              16383 non-null  int64  \n",
      " 13  Marital_Status                    16383 non-null  object \n",
      " 14  Gender                            16383 non-null  object \n",
      " 15  Time_in_Employment                16383 non-null  int64  \n",
      " 16  Employment_Status                 16383 non-null  object \n",
      " 17  Full_Part_Time_Empl_Ind           16383 non-null  object \n",
      " 18  Perm_Temp_Empl_Ind                16383 non-null  object \n",
      " 19  Income_Range                      16383 non-null  int64  \n",
      " 20  Current_Account                   16383 non-null  object \n",
      " 21  ACCESS_Card                       16383 non-null  object \n",
      " 22  VISA_Card                         16383 non-null  object \n",
      " 23  American_Express                  16383 non-null  object \n",
      " 24  Diners_Card                       16383 non-null  object \n",
      " 25  Cheque_Guarantee                  16383 non-null  object \n",
      " 26  Other_Credit_Store_Card           16383 non-null  object \n",
      " 27  Time_with_Bank                    16383 non-null  int64  \n",
      " 28  Value_of_Property                 16383 non-null  int64  \n",
      " 29  Outstanding_Mortgage_Bal          16383 non-null  int64  \n",
      " 30  Total_Outstanding_Balances        16383 non-null  int64  \n",
      " 31  Bureau_Data___Monthly_Other_Co_R  16383 non-null  int64  \n",
      " 32  Worst_History_CT                  16383 non-null  int64  \n",
      " 33  Payment_Method                    16383 non-null  object \n",
      " 34  Age                               16383 non-null  int64  \n",
      " 35  Total_outstanding_balance__mortg  16383 non-null  int64  \n",
      " 36  Total___Public_Info___CCJ____ban  16383 non-null  int64  \n",
      " 37  Total_value__Public_Info___CCJ__  16383 non-null  int64  \n",
      " 38  Time_since_most_recent_Public_In  16383 non-null  int64  \n",
      " 39  Total_value__CAIS_8_9s            16383 non-null  int64  \n",
      " 40  Worst_status_L6m                  16383 non-null  int64  \n",
      " 41  Worst_CUrrent_Status              16383 non-null  int64  \n",
      " 42  __of_status_3_s_L6m               16383 non-null  int64  \n",
      " 43  Searches___Total___L6m            16383 non-null  int64  \n",
      " 44  Years_on_ER_for_SP                16383 non-null  int64  \n",
      " 45  Bankruptcy_Detected__SP_          16383 non-null  object \n",
      " 46  Total___outstanding_CCJ_s         16383 non-null  int64  \n",
      " 47  Total_outstanding_balance___excl  16383 non-null  int64  \n",
      " 48  Total___of_accounts               16383 non-null  int64  \n",
      " 49  CIFAS_detected                    16383 non-null  object \n",
      " 50  Time_since_most_recent_outstandi  16383 non-null  int64  \n",
      " 51  Insurance_Description             9461 non-null   object \n",
      " 52  PPI                               16383 non-null  int64  \n",
      " 53  code                              9405 non-null   float64\n",
      " 54  prdt_desc                         9345 non-null   object \n",
      " 55  category                          9461 non-null   object \n",
      " 56  PPI_SINGLE                        16383 non-null  int64  \n",
      " 57  PPI_JOINT                         16383 non-null  int64  \n",
      " 58  PPI_LCI                           16383 non-null  int64  \n",
      " 59  Age Bucket                        16383 non-null  object \n",
      " 60  Credit Score Bucket               16383 non-null  object \n",
      " 61  Time at Address Bucket            16383 non-null  object \n",
      " 62  Time in Employment Bucket         16383 non-null  object \n",
      " 63  Unnamed: 63                       0 non-null      float64\n",
      " 64  Unnamed: 64                       0 non-null      float64\n",
      " 65  Unnamed: 65                       1 non-null      float64\n",
      "dtypes: float64(6), int64(34), object(26)\n",
      "memory usage: 8.2+ MB\n"
     ]
    },
    {
     "data": {
      "text/html": [
       "<div>\n",
       "<style scoped>\n",
       "    .dataframe tbody tr th:only-of-type {\n",
       "        vertical-align: middle;\n",
       "    }\n",
       "\n",
       "    .dataframe tbody tr th {\n",
       "        vertical-align: top;\n",
       "    }\n",
       "\n",
       "    .dataframe thead th {\n",
       "        text-align: right;\n",
       "    }\n",
       "</style>\n",
       "<table border=\"1\" class=\"dataframe\">\n",
       "  <thead>\n",
       "    <tr style=\"text-align: right;\">\n",
       "      <th></th>\n",
       "      <th>Ref</th>\n",
       "      <th>Credit_Score</th>\n",
       "      <th>Final_Grade</th>\n",
       "      <th>Term</th>\n",
       "      <th>Net_Advance</th>\n",
       "      <th>APR</th>\n",
       "      <th>Loan_Type</th>\n",
       "      <th>Mosaic</th>\n",
       "      <th>Mosaic_Class</th>\n",
       "      <th>Time_at_Address</th>\n",
       "      <th>...</th>\n",
       "      <th>PPI_SINGLE</th>\n",
       "      <th>PPI_JOINT</th>\n",
       "      <th>PPI_LCI</th>\n",
       "      <th>Age Bucket</th>\n",
       "      <th>Credit Score Bucket</th>\n",
       "      <th>Time at Address Bucket</th>\n",
       "      <th>Time in Employment Bucket</th>\n",
       "      <th>Unnamed: 63</th>\n",
       "      <th>Unnamed: 64</th>\n",
       "      <th>Unnamed: 65</th>\n",
       "    </tr>\n",
       "  </thead>\n",
       "  <tbody>\n",
       "    <tr>\n",
       "      <th>0</th>\n",
       "      <td>False</td>\n",
       "      <td>False</td>\n",
       "      <td>False</td>\n",
       "      <td>False</td>\n",
       "      <td>False</td>\n",
       "      <td>False</td>\n",
       "      <td>False</td>\n",
       "      <td>False</td>\n",
       "      <td>False</td>\n",
       "      <td>False</td>\n",
       "      <td>...</td>\n",
       "      <td>False</td>\n",
       "      <td>False</td>\n",
       "      <td>False</td>\n",
       "      <td>False</td>\n",
       "      <td>False</td>\n",
       "      <td>False</td>\n",
       "      <td>False</td>\n",
       "      <td>True</td>\n",
       "      <td>True</td>\n",
       "      <td>True</td>\n",
       "    </tr>\n",
       "    <tr>\n",
       "      <th>1</th>\n",
       "      <td>False</td>\n",
       "      <td>False</td>\n",
       "      <td>False</td>\n",
       "      <td>False</td>\n",
       "      <td>False</td>\n",
       "      <td>False</td>\n",
       "      <td>False</td>\n",
       "      <td>False</td>\n",
       "      <td>False</td>\n",
       "      <td>False</td>\n",
       "      <td>...</td>\n",
       "      <td>False</td>\n",
       "      <td>False</td>\n",
       "      <td>False</td>\n",
       "      <td>False</td>\n",
       "      <td>False</td>\n",
       "      <td>False</td>\n",
       "      <td>False</td>\n",
       "      <td>True</td>\n",
       "      <td>True</td>\n",
       "      <td>True</td>\n",
       "    </tr>\n",
       "    <tr>\n",
       "      <th>2</th>\n",
       "      <td>False</td>\n",
       "      <td>False</td>\n",
       "      <td>False</td>\n",
       "      <td>False</td>\n",
       "      <td>False</td>\n",
       "      <td>False</td>\n",
       "      <td>False</td>\n",
       "      <td>False</td>\n",
       "      <td>False</td>\n",
       "      <td>False</td>\n",
       "      <td>...</td>\n",
       "      <td>False</td>\n",
       "      <td>False</td>\n",
       "      <td>False</td>\n",
       "      <td>False</td>\n",
       "      <td>False</td>\n",
       "      <td>False</td>\n",
       "      <td>False</td>\n",
       "      <td>True</td>\n",
       "      <td>True</td>\n",
       "      <td>True</td>\n",
       "    </tr>\n",
       "    <tr>\n",
       "      <th>3</th>\n",
       "      <td>False</td>\n",
       "      <td>False</td>\n",
       "      <td>False</td>\n",
       "      <td>False</td>\n",
       "      <td>False</td>\n",
       "      <td>False</td>\n",
       "      <td>False</td>\n",
       "      <td>False</td>\n",
       "      <td>False</td>\n",
       "      <td>False</td>\n",
       "      <td>...</td>\n",
       "      <td>False</td>\n",
       "      <td>False</td>\n",
       "      <td>False</td>\n",
       "      <td>False</td>\n",
       "      <td>False</td>\n",
       "      <td>False</td>\n",
       "      <td>False</td>\n",
       "      <td>True</td>\n",
       "      <td>True</td>\n",
       "      <td>True</td>\n",
       "    </tr>\n",
       "    <tr>\n",
       "      <th>4</th>\n",
       "      <td>False</td>\n",
       "      <td>False</td>\n",
       "      <td>False</td>\n",
       "      <td>False</td>\n",
       "      <td>False</td>\n",
       "      <td>False</td>\n",
       "      <td>False</td>\n",
       "      <td>False</td>\n",
       "      <td>False</td>\n",
       "      <td>False</td>\n",
       "      <td>...</td>\n",
       "      <td>False</td>\n",
       "      <td>False</td>\n",
       "      <td>False</td>\n",
       "      <td>False</td>\n",
       "      <td>False</td>\n",
       "      <td>False</td>\n",
       "      <td>False</td>\n",
       "      <td>True</td>\n",
       "      <td>True</td>\n",
       "      <td>True</td>\n",
       "    </tr>\n",
       "    <tr>\n",
       "      <th>...</th>\n",
       "      <td>...</td>\n",
       "      <td>...</td>\n",
       "      <td>...</td>\n",
       "      <td>...</td>\n",
       "      <td>...</td>\n",
       "      <td>...</td>\n",
       "      <td>...</td>\n",
       "      <td>...</td>\n",
       "      <td>...</td>\n",
       "      <td>...</td>\n",
       "      <td>...</td>\n",
       "      <td>...</td>\n",
       "      <td>...</td>\n",
       "      <td>...</td>\n",
       "      <td>...</td>\n",
       "      <td>...</td>\n",
       "      <td>...</td>\n",
       "      <td>...</td>\n",
       "      <td>...</td>\n",
       "      <td>...</td>\n",
       "      <td>...</td>\n",
       "    </tr>\n",
       "    <tr>\n",
       "      <th>16378</th>\n",
       "      <td>False</td>\n",
       "      <td>False</td>\n",
       "      <td>False</td>\n",
       "      <td>False</td>\n",
       "      <td>False</td>\n",
       "      <td>False</td>\n",
       "      <td>False</td>\n",
       "      <td>False</td>\n",
       "      <td>False</td>\n",
       "      <td>False</td>\n",
       "      <td>...</td>\n",
       "      <td>False</td>\n",
       "      <td>False</td>\n",
       "      <td>False</td>\n",
       "      <td>False</td>\n",
       "      <td>False</td>\n",
       "      <td>False</td>\n",
       "      <td>False</td>\n",
       "      <td>True</td>\n",
       "      <td>True</td>\n",
       "      <td>True</td>\n",
       "    </tr>\n",
       "    <tr>\n",
       "      <th>16379</th>\n",
       "      <td>False</td>\n",
       "      <td>False</td>\n",
       "      <td>False</td>\n",
       "      <td>False</td>\n",
       "      <td>False</td>\n",
       "      <td>False</td>\n",
       "      <td>False</td>\n",
       "      <td>False</td>\n",
       "      <td>False</td>\n",
       "      <td>False</td>\n",
       "      <td>...</td>\n",
       "      <td>False</td>\n",
       "      <td>False</td>\n",
       "      <td>False</td>\n",
       "      <td>False</td>\n",
       "      <td>False</td>\n",
       "      <td>False</td>\n",
       "      <td>False</td>\n",
       "      <td>True</td>\n",
       "      <td>True</td>\n",
       "      <td>True</td>\n",
       "    </tr>\n",
       "    <tr>\n",
       "      <th>16380</th>\n",
       "      <td>False</td>\n",
       "      <td>False</td>\n",
       "      <td>False</td>\n",
       "      <td>False</td>\n",
       "      <td>False</td>\n",
       "      <td>False</td>\n",
       "      <td>False</td>\n",
       "      <td>False</td>\n",
       "      <td>False</td>\n",
       "      <td>False</td>\n",
       "      <td>...</td>\n",
       "      <td>False</td>\n",
       "      <td>False</td>\n",
       "      <td>False</td>\n",
       "      <td>False</td>\n",
       "      <td>False</td>\n",
       "      <td>False</td>\n",
       "      <td>False</td>\n",
       "      <td>True</td>\n",
       "      <td>True</td>\n",
       "      <td>True</td>\n",
       "    </tr>\n",
       "    <tr>\n",
       "      <th>16381</th>\n",
       "      <td>False</td>\n",
       "      <td>False</td>\n",
       "      <td>False</td>\n",
       "      <td>False</td>\n",
       "      <td>False</td>\n",
       "      <td>False</td>\n",
       "      <td>False</td>\n",
       "      <td>False</td>\n",
       "      <td>False</td>\n",
       "      <td>False</td>\n",
       "      <td>...</td>\n",
       "      <td>False</td>\n",
       "      <td>False</td>\n",
       "      <td>False</td>\n",
       "      <td>False</td>\n",
       "      <td>False</td>\n",
       "      <td>False</td>\n",
       "      <td>False</td>\n",
       "      <td>True</td>\n",
       "      <td>True</td>\n",
       "      <td>True</td>\n",
       "    </tr>\n",
       "    <tr>\n",
       "      <th>16382</th>\n",
       "      <td>False</td>\n",
       "      <td>False</td>\n",
       "      <td>False</td>\n",
       "      <td>False</td>\n",
       "      <td>False</td>\n",
       "      <td>False</td>\n",
       "      <td>False</td>\n",
       "      <td>False</td>\n",
       "      <td>False</td>\n",
       "      <td>False</td>\n",
       "      <td>...</td>\n",
       "      <td>False</td>\n",
       "      <td>False</td>\n",
       "      <td>False</td>\n",
       "      <td>False</td>\n",
       "      <td>False</td>\n",
       "      <td>False</td>\n",
       "      <td>False</td>\n",
       "      <td>True</td>\n",
       "      <td>True</td>\n",
       "      <td>True</td>\n",
       "    </tr>\n",
       "  </tbody>\n",
       "</table>\n",
       "<p>16383 rows × 66 columns</p>\n",
       "</div>"
      ],
      "text/plain": [
       "         Ref  Credit_Score  Final_Grade   Term  Net_Advance    APR  Loan_Type  \\\n",
       "0      False         False        False  False        False  False      False   \n",
       "1      False         False        False  False        False  False      False   \n",
       "2      False         False        False  False        False  False      False   \n",
       "3      False         False        False  False        False  False      False   \n",
       "4      False         False        False  False        False  False      False   \n",
       "...      ...           ...          ...    ...          ...    ...        ...   \n",
       "16378  False         False        False  False        False  False      False   \n",
       "16379  False         False        False  False        False  False      False   \n",
       "16380  False         False        False  False        False  False      False   \n",
       "16381  False         False        False  False        False  False      False   \n",
       "16382  False         False        False  False        False  False      False   \n",
       "\n",
       "       Mosaic  Mosaic_Class  Time_at_Address  ...  PPI_SINGLE  PPI_JOINT  \\\n",
       "0       False         False            False  ...       False      False   \n",
       "1       False         False            False  ...       False      False   \n",
       "2       False         False            False  ...       False      False   \n",
       "3       False         False            False  ...       False      False   \n",
       "4       False         False            False  ...       False      False   \n",
       "...       ...           ...              ...  ...         ...        ...   \n",
       "16378   False         False            False  ...       False      False   \n",
       "16379   False         False            False  ...       False      False   \n",
       "16380   False         False            False  ...       False      False   \n",
       "16381   False         False            False  ...       False      False   \n",
       "16382   False         False            False  ...       False      False   \n",
       "\n",
       "       PPI_LCI  Age Bucket  Credit Score Bucket  Time at Address Bucket  \\\n",
       "0        False       False                False                   False   \n",
       "1        False       False                False                   False   \n",
       "2        False       False                False                   False   \n",
       "3        False       False                False                   False   \n",
       "4        False       False                False                   False   \n",
       "...        ...         ...                  ...                     ...   \n",
       "16378    False       False                False                   False   \n",
       "16379    False       False                False                   False   \n",
       "16380    False       False                False                   False   \n",
       "16381    False       False                False                   False   \n",
       "16382    False       False                False                   False   \n",
       "\n",
       "       Time in Employment Bucket  Unnamed: 63  Unnamed: 64  Unnamed: 65  \n",
       "0                          False         True         True         True  \n",
       "1                          False         True         True         True  \n",
       "2                          False         True         True         True  \n",
       "3                          False         True         True         True  \n",
       "4                          False         True         True         True  \n",
       "...                          ...          ...          ...          ...  \n",
       "16378                      False         True         True         True  \n",
       "16379                      False         True         True         True  \n",
       "16380                      False         True         True         True  \n",
       "16381                      False         True         True         True  \n",
       "16382                      False         True         True         True  \n",
       "\n",
       "[16383 rows x 66 columns]"
      ]
     },
     "execution_count": 4,
     "metadata": {},
     "output_type": "execute_result"
    }
   ],
   "source": [
    "df= pd.read_excel('C:/Users/Sonali.Sengupta/Desktop/Mortgage Insurance Cross Sell - Dataset & Case Description/Mortgage Insurance Cross Sell - Dataset & Case Description/Dataset - v1.xlsx') \n",
    "df.shape\n",
    "df.head()\n",
    "df.info()\n",
    "df.isna()"
   ]
  },
  {
   "cell_type": "code",
   "execution_count": 7,
   "id": "f136c5ac",
   "metadata": {},
   "outputs": [
    {
     "data": {
      "text/plain": [
       "<seaborn.axisgrid.FacetGrid at 0x29626520850>"
      ]
     },
     "execution_count": 7,
     "metadata": {},
     "output_type": "execute_result"
    },
    {
     "data": {
      "image/png": "[encoded data removed]",
      "text/plain": [
       "<Figure size 360x360 with 1 Axes>"
      ]
     },
     "metadata": {
      "needs_background": "light"
     },
     "output_type": "display_data"
    },
    {
     "data": {
      "image/png": "[encoded data removed]",
      "text/plain": [
       "<Figure size 360x360 with 1 Axes>"
      ]
     },
     "metadata": {
      "needs_background": "light"
     },
     "output_type": "display_data"
    },
    {
     "data": {
      "image/png": "[encoded data removed]",
      "text/plain": [
       "<Figure size 360x360 with 1 Axes>"
      ]
     },
     "metadata": {
      "needs_background": "light"
     },
     "output_type": "display_data"
    },
    {
     "data": {
      "image/png": "[encoded data removed]",
      "text/plain": [
       "<Figure size 360x360 with 1 Axes>"
      ]
     },
     "metadata": {
      "needs_background": "light"
     },
     "output_type": "display_data"
    }
   ],
   "source": [
    "sns.displot(df['Age'])\n",
    "sns.displot(df['Credit_Score'])\n",
    "sns.displot(df['Net_Advance'])\n",
    "sns.displot(df['APR'])"
   ]
  },
  {
   "cell_type": "code",
   "execution_count": 12,
   "id": "46e2f60b",
   "metadata": {},
   "outputs": [
    {
     "name": "stdout",
     "output_type": "stream",
     "text": [
      "   Ref  Credit_Score Final_Grade  Term  Net_Advance   APR  Loan_Type  Mosaic  \\\n",
      "0    1           918           A    36       3000.0  14.4  UnSecured      46   \n",
      "1    3           903           A   120      21000.0   7.9  secured        16   \n",
      "2    4          1060           X    78       7200.0   7.9  secured        17   \n",
      "3    6           839           B    60       8000.0  16.9  UnSecured      47   \n",
      "4    7          1057           X    60       7650.0   7.4  UnSecured      55   \n",
      "\n",
      "   Mosaic_Class  Time_at_Address  ... PPI_SINGLE PPI_JOINT  PPI_LCI  \\\n",
      "0             8              132  ...          0         0        0   \n",
      "1             3              288  ...          0         0        1   \n",
      "2             3              276  ...          0         1        0   \n",
      "3             8               48  ...          0         0        1   \n",
      "4            10              156  ...          1         0        0   \n",
      "\n",
      "  Age Bucket Credit Score Bucket  Time at Address Bucket  \\\n",
      "0      46-60            700-1000               2-3 years   \n",
      "1      46-60            700-1000               > 5 years   \n",
      "2      46-60           1000-1300               > 5 years   \n",
      "3      26-35            700-1000                 <1 year   \n",
      "4      46-60           1000-1300               2-3 years   \n",
      "\n",
      "  Time in Employment Bucket Unnamed: 63 Unnamed: 64  Unnamed: 65  \n",
      "0                 > 5 years         NaN         NaN          NaN  \n",
      "1                   <1 year         NaN         NaN          NaN  \n",
      "2                 2-3 years         NaN         NaN          NaN  \n",
      "3                 1-2 years         NaN         NaN          NaN  \n",
      "4                 > 5 years         NaN         NaN          NaN  \n",
      "\n",
      "[5 rows x 66 columns]\n",
      "PPI        0     1\n",
      "Gender            \n",
      "F       2711  3902\n",
      "M       4211  5559\n"
     ]
    },
    {
     "data": {
      "text/plain": [
       "<AxesSubplot:xlabel='Gender'>"
      ]
     },
     "execution_count": 12,
     "metadata": {},
     "output_type": "execute_result"
    },
    {
     "data": {
      "image/png": "[encoded data removed]",
      "text/plain": [
       "<Figure size 432x288 with 1 Axes>"
      ]
     },
     "metadata": {
      "needs_background": "light"
     },
     "output_type": "display_data"
    }
   ],
   "source": [
    "LoanData=pd.DataFrame(data=df)\n",
    "print(LoanData.head())\n",
    "CrosstabResult=pd.crosstab(index=LoanData['Gender'],columns=LoanData['PPI'])\n",
    "print(CrosstabResult)\n",
    " \n",
    "# Grouped bar chart between GENDER and PPI\n",
    "%matplotlib inline \n",
    "CrosstabResult.plot.bar()"
   ]
  },
  {
   "cell_type": "code",
   "execution_count": 13,
   "id": "1868287f",
   "metadata": {},
   "outputs": [
    {
     "name": "stdout",
     "output_type": "stream",
     "text": [
      "   Ref  Credit_Score Final_Grade  Term  Net_Advance   APR  Loan_Type  Mosaic  \\\n",
      "0    1           918           A    36       3000.0  14.4  UnSecured      46   \n",
      "1    3           903           A   120      21000.0   7.9  secured        16   \n",
      "2    4          1060           X    78       7200.0   7.9  secured        17   \n",
      "3    6           839           B    60       8000.0  16.9  UnSecured      47   \n",
      "4    7          1057           X    60       7650.0   7.4  UnSecured      55   \n",
      "\n",
      "   Mosaic_Class  Time_at_Address  ... PPI_SINGLE PPI_JOINT  PPI_LCI  \\\n",
      "0             8              132  ...          0         0        0   \n",
      "1             3              288  ...          0         0        1   \n",
      "2             3              276  ...          0         1        0   \n",
      "3             8               48  ...          0         0        1   \n",
      "4            10              156  ...          1         0        0   \n",
      "\n",
      "  Age Bucket Credit Score Bucket  Time at Address Bucket  \\\n",
      "0      46-60            700-1000               2-3 years   \n",
      "1      46-60            700-1000               > 5 years   \n",
      "2      46-60           1000-1300               > 5 years   \n",
      "3      26-35            700-1000                 <1 year   \n",
      "4      46-60           1000-1300               2-3 years   \n",
      "\n",
      "  Time in Employment Bucket Unnamed: 63 Unnamed: 64  Unnamed: 65  \n",
      "0                 > 5 years         NaN         NaN          NaN  \n",
      "1                   <1 year         NaN         NaN          NaN  \n",
      "2                 2-3 years         NaN         NaN          NaN  \n",
      "3                 1-2 years         NaN         NaN          NaN  \n",
      "4                 > 5 years         NaN         NaN          NaN  \n",
      "\n",
      "[5 rows x 66 columns]\n",
      "PPI            0     1\n",
      "Age Bucket            \n",
      "18-25        234   322\n",
      "26-35       1707  1940\n",
      "36-45       2240  2833\n",
      "46-60       2285  3494\n",
      "60+          456   872\n"
     ]
    },
    {
     "data": {
      "text/plain": [
       "<AxesSubplot:xlabel='Age Bucket'>"
      ]
     },
     "execution_count": 13,
     "metadata": {},
     "output_type": "execute_result"
    },
    {
     "data": {
      "image/png": "[encoded data removed]",
      "text/plain": [
       "<Figure size 432x288 with 1 Axes>"
      ]
     },
     "metadata": {
      "needs_background": "light"
     },
     "output_type": "display_data"
    }
   ],
   "source": [
    "LoanData=pd.DataFrame(data=df)\n",
    "print(LoanData.head())\n",
    "CrosstabResult=pd.crosstab(index=LoanData['Age Bucket'],columns=LoanData['PPI'])\n",
    "print(CrosstabResult)\n",
    " \n",
    "# Grouped bar chart between Age and PPI\n",
    "%matplotlib inline \n",
    "CrosstabResult.plot.bar()"
   ]
  },
  {
   "cell_type": "code",
   "execution_count": 15,
   "id": "2c1a9dad",
   "metadata": {},
   "outputs": [
    {
     "name": "stdout",
     "output_type": "stream",
     "text": [
      "   Ref  Credit_Score Final_Grade  Term  Net_Advance   APR  Loan_Type  Mosaic  \\\n",
      "0    1           918           A    36       3000.0  14.4  UnSecured      46   \n",
      "1    3           903           A   120      21000.0   7.9  secured        16   \n",
      "2    4          1060           X    78       7200.0   7.9  secured        17   \n",
      "3    6           839           B    60       8000.0  16.9  UnSecured      47   \n",
      "4    7          1057           X    60       7650.0   7.4  UnSecured      55   \n",
      "\n",
      "   Mosaic_Class  Time_at_Address  ... PPI_SINGLE PPI_JOINT  PPI_LCI  \\\n",
      "0             8              132  ...          0         0        0   \n",
      "1             3              288  ...          0         0        1   \n",
      "2             3              276  ...          0         1        0   \n",
      "3             8               48  ...          0         0        1   \n",
      "4            10              156  ...          1         0        0   \n",
      "\n",
      "  Age Bucket Credit Score Bucket  Time at Address Bucket  \\\n",
      "0      46-60            700-1000               2-3 years   \n",
      "1      46-60            700-1000               > 5 years   \n",
      "2      46-60           1000-1300               > 5 years   \n",
      "3      26-35            700-1000                 <1 year   \n",
      "4      46-60           1000-1300               2-3 years   \n",
      "\n",
      "  Time in Employment Bucket Unnamed: 63 Unnamed: 64  Unnamed: 65  \n",
      "0                 > 5 years         NaN         NaN          NaN  \n",
      "1                   <1 year         NaN         NaN          NaN  \n",
      "2                 2-3 years         NaN         NaN          NaN  \n",
      "3                 1-2 years         NaN         NaN          NaN  \n",
      "4                 > 5 years         NaN         NaN          NaN  \n",
      "\n",
      "[5 rows x 66 columns]\n",
      "PPI                     0     1\n",
      "Credit Score Bucket            \n",
      "1000-1300            1036   646\n",
      "300-660                85    86\n",
      "660-700                91   110\n",
      "700-1000             5710  8619\n"
     ]
    },
    {
     "data": {
      "text/plain": [
       "<AxesSubplot:xlabel='Credit Score Bucket'>"
      ]
     },
     "execution_count": 15,
     "metadata": {},
     "output_type": "execute_result"
    },
    {
     "data": {
      "image/png": "[encoded data removed]",
      "text/plain": [
       "<Figure size 432x288 with 1 Axes>"
      ]
     },
     "metadata": {
      "needs_background": "light"
     },
     "output_type": "display_data"
    }
   ],
   "source": [
    "LoanData=pd.DataFrame(data=df)\n",
    "print(LoanData.head())\n",
    "CrosstabResult=pd.crosstab(index=LoanData['Credit Score Bucket'],columns=LoanData['PPI'])\n",
    "print(CrosstabResult)\n",
    " \n",
    "# Grouped bar chart between Credit Score and PPI\n",
    "%matplotlib inline \n",
    "CrosstabResult.plot.bar()"
   ]
  },
  {
   "cell_type": "code",
   "execution_count": 16,
   "id": "f2b33269",
   "metadata": {},
   "outputs": [
    {
     "name": "stdout",
     "output_type": "stream",
     "text": [
      "   Ref  Credit_Score Final_Grade  Term  Net_Advance   APR  Loan_Type  Mosaic  \\\n",
      "0    1           918           A    36       3000.0  14.4  UnSecured      46   \n",
      "1    3           903           A   120      21000.0   7.9  secured        16   \n",
      "2    4          1060           X    78       7200.0   7.9  secured        17   \n",
      "3    6           839           B    60       8000.0  16.9  UnSecured      47   \n",
      "4    7          1057           X    60       7650.0   7.4  UnSecured      55   \n",
      "\n",
      "   Mosaic_Class  Time_at_Address  ... PPI_SINGLE PPI_JOINT  PPI_LCI  \\\n",
      "0             8              132  ...          0         0        0   \n",
      "1             3              288  ...          0         0        1   \n",
      "2             3              276  ...          0         1        0   \n",
      "3             8               48  ...          0         0        1   \n",
      "4            10              156  ...          1         0        0   \n",
      "\n",
      "  Age Bucket Credit Score Bucket  Time at Address Bucket  \\\n",
      "0      46-60            700-1000               2-3 years   \n",
      "1      46-60            700-1000               > 5 years   \n",
      "2      46-60           1000-1300               > 5 years   \n",
      "3      26-35            700-1000                 <1 year   \n",
      "4      46-60           1000-1300               2-3 years   \n",
      "\n",
      "  Time in Employment Bucket Unnamed: 63 Unnamed: 64  Unnamed: 65  \n",
      "0                 > 5 years         NaN         NaN          NaN  \n",
      "1                   <1 year         NaN         NaN          NaN  \n",
      "2                 2-3 years         NaN         NaN          NaN  \n",
      "3                 1-2 years         NaN         NaN          NaN  \n",
      "4                 > 5 years         NaN         NaN          NaN  \n",
      "\n",
      "[5 rows x 66 columns]\n",
      "PPI           0     1\n",
      "Loan_Type            \n",
      "UnSecured  5502  7552\n",
      "secured    1420  1909\n"
     ]
    },
    {
     "data": {
      "text/plain": [
       "<AxesSubplot:xlabel='Loan_Type'>"
      ]
     },
     "execution_count": 16,
     "metadata": {},
     "output_type": "execute_result"
    },
    {
     "data": {
      "image/png": "[encoded data removed]",
      "text/plain": [
       "<Figure size 432x288 with 1 Axes>"
      ]
     },
     "metadata": {
      "needs_background": "light"
     },
     "output_type": "display_data"
    }
   ],
   "source": [
    "LoanData=pd.DataFrame(data=df)\n",
    "print(LoanData.head())\n",
    "CrosstabResult=pd.crosstab(index=LoanData['Loan_Type'],columns=LoanData['PPI'])\n",
    "print(CrosstabResult)\n",
    " \n",
    "# Grouped bar chart between Loan Type and PPI\n",
    "%matplotlib inline \n",
    "CrosstabResult.plot.bar()"
   ]
  },
  {
   "cell_type": "code",
   "execution_count": 18,
   "id": "3f460a17",
   "metadata": {},
   "outputs": [
    {
     "name": "stdout",
     "output_type": "stream",
     "text": [
      "   Ref  Credit_Score Final_Grade  Term  Net_Advance   APR  Loan_Type  Mosaic  \\\n",
      "0    1           918           A    36       3000.0  14.4  UnSecured      46   \n",
      "1    3           903           A   120      21000.0   7.9  secured        16   \n",
      "2    4          1060           X    78       7200.0   7.9  secured        17   \n",
      "3    6           839           B    60       8000.0  16.9  UnSecured      47   \n",
      "4    7          1057           X    60       7650.0   7.4  UnSecured      55   \n",
      "\n",
      "   Mosaic_Class  Time_at_Address  ... PPI_SINGLE PPI_JOINT  PPI_LCI  \\\n",
      "0             8              132  ...          0         0        0   \n",
      "1             3              288  ...          0         0        1   \n",
      "2             3              276  ...          0         1        0   \n",
      "3             8               48  ...          0         0        1   \n",
      "4            10              156  ...          1         0        0   \n",
      "\n",
      "  Age Bucket Credit Score Bucket  Time at Address Bucket  \\\n",
      "0      46-60            700-1000               2-3 years   \n",
      "1      46-60            700-1000               > 5 years   \n",
      "2      46-60           1000-1300               > 5 years   \n",
      "3      26-35            700-1000                 <1 year   \n",
      "4      46-60           1000-1300               2-3 years   \n",
      "\n",
      "  Time in Employment Bucket Unnamed: 63 Unnamed: 64  Unnamed: 65  \n",
      "0                 > 5 years         NaN         NaN          NaN  \n",
      "1                   <1 year         NaN         NaN          NaN  \n",
      "2                 2-3 years         NaN         NaN          NaN  \n",
      "3                 1-2 years         NaN         NaN          NaN  \n",
      "4                 > 5 years         NaN         NaN          NaN  \n",
      "\n",
      "[5 rows x 66 columns]\n",
      "PPI              0     1\n",
      "Income_Range            \n",
      "0              603   119\n",
      "1               82   140\n",
      "2              380   847\n",
      "3              764  1608\n",
      "4             1055  1937\n",
      "5             1025  1595\n",
      "6             3013  3215\n"
     ]
    },
    {
     "data": {
      "text/plain": [
       "<AxesSubplot:xlabel='Income_Range'>"
      ]
     },
     "execution_count": 18,
     "metadata": {},
     "output_type": "execute_result"
    },
    {
     "data": {
      "image/png": "[encoded data removed]",
      "text/plain": [
       "<Figure size 432x288 with 1 Axes>"
      ]
     },
     "metadata": {
      "needs_background": "light"
     },
     "output_type": "display_data"
    }
   ],
   "source": [
    "LoanData=pd.DataFrame(data=df)\n",
    "print(LoanData.head())\n",
    "CrosstabResult=pd.crosstab(index=LoanData['Income_Range'],columns=LoanData['PPI'])\n",
    "print(CrosstabResult)\n",
    " \n",
    "# Grouped bar chart between Income and PPI\n",
    "%matplotlib inline \n",
    "CrosstabResult.plot.bar()"
   ]
  },
  {
   "cell_type": "code",
   "execution_count": 19,
   "id": "a47d9c7f",
   "metadata": {},
   "outputs": [
    {
     "name": "stdout",
     "output_type": "stream",
     "text": [
      "   Ref  Credit_Score Final_Grade  Term  Net_Advance   APR  Loan_Type  Mosaic  \\\n",
      "0    1           918           A    36       3000.0  14.4  UnSecured      46   \n",
      "1    3           903           A   120      21000.0   7.9  secured        16   \n",
      "2    4          1060           X    78       7200.0   7.9  secured        17   \n",
      "3    6           839           B    60       8000.0  16.9  UnSecured      47   \n",
      "4    7          1057           X    60       7650.0   7.4  UnSecured      55   \n",
      "\n",
      "   Mosaic_Class  Time_at_Address  ... PPI_SINGLE PPI_JOINT  PPI_LCI  \\\n",
      "0             8              132  ...          0         0        0   \n",
      "1             3              288  ...          0         0        1   \n",
      "2             3              276  ...          0         1        0   \n",
      "3             8               48  ...          0         0        1   \n",
      "4            10              156  ...          1         0        0   \n",
      "\n",
      "  Age Bucket Credit Score Bucket  Time at Address Bucket  \\\n",
      "0      46-60            700-1000               2-3 years   \n",
      "1      46-60            700-1000               > 5 years   \n",
      "2      46-60           1000-1300               > 5 years   \n",
      "3      26-35            700-1000                 <1 year   \n",
      "4      46-60           1000-1300               2-3 years   \n",
      "\n",
      "  Time in Employment Bucket Unnamed: 63 Unnamed: 64  Unnamed: 65  \n",
      "0                 > 5 years         NaN         NaN          NaN  \n",
      "1                   <1 year         NaN         NaN          NaN  \n",
      "2                 2-3 years         NaN         NaN          NaN  \n",
      "3                 1-2 years         NaN         NaN          NaN  \n",
      "4                 > 5 years         NaN         NaN          NaN  \n",
      "\n",
      "[5 rows x 66 columns]\n"
     ]
    },
    {
     "ename": "KeyError",
     "evalue": "'Other_Credit_Score_Card'",
     "output_type": "error",
     "traceback": [
      "\u001b[1;31m---------------------------------------------------------------------------\u001b[0m",
      "\u001b[1;31mKeyError\u001b[0m                                  Traceback (most recent call last)",
      "\u001b[1;32m~\\anaconda3\\lib\\site-packages\\pandas\\core\\indexes\\base.py\u001b[0m in \u001b[0;36mget_loc\u001b[1;34m(self, key, method, tolerance)\u001b[0m\n\u001b[0;32m   3079\u001b[0m             \u001b[1;32mtry\u001b[0m\u001b[1;33m:\u001b[0m\u001b[1;33m\u001b[0m\u001b[1;33m\u001b[0m\u001b[0m\n\u001b[1;32m-> 3080\u001b[1;33m                 \u001b[1;32mreturn\u001b[0m \u001b[0mself\u001b[0m\u001b[1;33m.\u001b[0m\u001b[0m_engine\u001b[0m\u001b[1;33m.\u001b[0m\u001b[0mget_loc\u001b[0m\u001b[1;33m(\u001b[0m\u001b[0mcasted_key\u001b[0m\u001b[1;33m)\u001b[0m\u001b[1;33m\u001b[0m\u001b[1;33m\u001b[0m\u001b[0m\n\u001b[0m\u001b[0;32m   3081\u001b[0m             \u001b[1;32mexcept\u001b[0m \u001b[0mKeyError\u001b[0m \u001b[1;32mas\u001b[0m \u001b[0merr\u001b[0m\u001b[1;33m:\u001b[0m\u001b[1;33m\u001b[0m\u001b[1;33m\u001b[0m\u001b[0m\n",
      "\u001b[1;32mpandas\\_libs\\index.pyx\u001b[0m in \u001b[0;36mpandas._libs.index.IndexEngine.get_loc\u001b[1;34m()\u001b[0m\n",
      "\u001b[1;32mpandas\\_libs\\index.pyx\u001b[0m in \u001b[0;36mpandas._libs.index.IndexEngine.get_loc\u001b[1;34m()\u001b[0m\n",
      "\u001b[1;32mpandas\\_libs\\hashtable_class_helper.pxi\u001b[0m in \u001b[0;36mpandas._libs.hashtable.PyObjectHashTable.get_item\u001b[1;34m()\u001b[0m\n",
      "\u001b[1;32mpandas\\_libs\\hashtable_class_helper.pxi\u001b[0m in \u001b[0;36mpandas._libs.hashtable.PyObjectHashTable.get_item\u001b[1;34m()\u001b[0m\n",
      "\u001b[1;31mKeyError\u001b[0m: 'Other_Credit_Score_Card'",
      "\nThe above exception was the direct cause of the following exception:\n",
      "\u001b[1;31mKeyError\u001b[0m                                  Traceback (most recent call last)",
      "\u001b[1;32m<ipython-input-19-89ed7f1f69d1>\u001b[0m in \u001b[0;36m<module>\u001b[1;34m\u001b[0m\n\u001b[0;32m      1\u001b[0m \u001b[0mLoanData\u001b[0m\u001b[1;33m=\u001b[0m\u001b[0mpd\u001b[0m\u001b[1;33m.\u001b[0m\u001b[0mDataFrame\u001b[0m\u001b[1;33m(\u001b[0m\u001b[0mdata\u001b[0m\u001b[1;33m=\u001b[0m\u001b[0mdf\u001b[0m\u001b[1;33m)\u001b[0m\u001b[1;33m\u001b[0m\u001b[1;33m\u001b[0m\u001b[0m\n\u001b[0;32m      2\u001b[0m \u001b[0mprint\u001b[0m\u001b[1;33m(\u001b[0m\u001b[0mLoanData\u001b[0m\u001b[1;33m.\u001b[0m\u001b[0mhead\u001b[0m\u001b[1;33m(\u001b[0m\u001b[1;33m)\u001b[0m\u001b[1;33m)\u001b[0m\u001b[1;33m\u001b[0m\u001b[1;33m\u001b[0m\u001b[0m\n\u001b[1;32m----> 3\u001b[1;33m \u001b[0mCrosstabResult\u001b[0m\u001b[1;33m=\u001b[0m\u001b[0mpd\u001b[0m\u001b[1;33m.\u001b[0m\u001b[0mcrosstab\u001b[0m\u001b[1;33m(\u001b[0m\u001b[0mindex\u001b[0m\u001b[1;33m=\u001b[0m\u001b[0mLoanData\u001b[0m\u001b[1;33m[\u001b[0m\u001b[1;34m'Other_Credit_Score_Card'\u001b[0m\u001b[1;33m]\u001b[0m\u001b[1;33m,\u001b[0m\u001b[0mcolumns\u001b[0m\u001b[1;33m=\u001b[0m\u001b[0mLoanData\u001b[0m\u001b[1;33m[\u001b[0m\u001b[1;34m'PPI'\u001b[0m\u001b[1;33m]\u001b[0m\u001b[1;33m)\u001b[0m\u001b[1;33m\u001b[0m\u001b[1;33m\u001b[0m\u001b[0m\n\u001b[0m\u001b[0;32m      4\u001b[0m \u001b[0mprint\u001b[0m\u001b[1;33m(\u001b[0m\u001b[0mCrosstabResult\u001b[0m\u001b[1;33m)\u001b[0m\u001b[1;33m\u001b[0m\u001b[1;33m\u001b[0m\u001b[0m\n\u001b[0;32m      5\u001b[0m \u001b[1;33m\u001b[0m\u001b[0m\n",
      "\u001b[1;32m~\\anaconda3\\lib\\site-packages\\pandas\\core\\frame.py\u001b[0m in \u001b[0;36m__getitem__\u001b[1;34m(self, key)\u001b[0m\n\u001b[0;32m   3022\u001b[0m             \u001b[1;32mif\u001b[0m \u001b[0mself\u001b[0m\u001b[1;33m.\u001b[0m\u001b[0mcolumns\u001b[0m\u001b[1;33m.\u001b[0m\u001b[0mnlevels\u001b[0m \u001b[1;33m>\u001b[0m \u001b[1;36m1\u001b[0m\u001b[1;33m:\u001b[0m\u001b[1;33m\u001b[0m\u001b[1;33m\u001b[0m\u001b[0m\n\u001b[0;32m   3023\u001b[0m                 \u001b[1;32mreturn\u001b[0m \u001b[0mself\u001b[0m\u001b[1;33m.\u001b[0m\u001b[0m_getitem_multilevel\u001b[0m\u001b[1;33m(\u001b[0m\u001b[0mkey\u001b[0m\u001b[1;33m)\u001b[0m\u001b[1;33m\u001b[0m\u001b[1;33m\u001b[0m\u001b[0m\n\u001b[1;32m-> 3024\u001b[1;33m             \u001b[0mindexer\u001b[0m \u001b[1;33m=\u001b[0m \u001b[0mself\u001b[0m\u001b[1;33m.\u001b[0m\u001b[0mcolumns\u001b[0m\u001b[1;33m.\u001b[0m\u001b[0mget_loc\u001b[0m\u001b[1;33m(\u001b[0m\u001b[0mkey\u001b[0m\u001b[1;33m)\u001b[0m\u001b[1;33m\u001b[0m\u001b[1;33m\u001b[0m\u001b[0m\n\u001b[0m\u001b[0;32m   3025\u001b[0m             \u001b[1;32mif\u001b[0m \u001b[0mis_integer\u001b[0m\u001b[1;33m(\u001b[0m\u001b[0mindexer\u001b[0m\u001b[1;33m)\u001b[0m\u001b[1;33m:\u001b[0m\u001b[1;33m\u001b[0m\u001b[1;33m\u001b[0m\u001b[0m\n\u001b[0;32m   3026\u001b[0m                 \u001b[0mindexer\u001b[0m \u001b[1;33m=\u001b[0m \u001b[1;33m[\u001b[0m\u001b[0mindexer\u001b[0m\u001b[1;33m]\u001b[0m\u001b[1;33m\u001b[0m\u001b[1;33m\u001b[0m\u001b[0m\n",
      "\u001b[1;32m~\\anaconda3\\lib\\site-packages\\pandas\\core\\indexes\\base.py\u001b[0m in \u001b[0;36mget_loc\u001b[1;34m(self, key, method, tolerance)\u001b[0m\n\u001b[0;32m   3080\u001b[0m                 \u001b[1;32mreturn\u001b[0m \u001b[0mself\u001b[0m\u001b[1;33m.\u001b[0m\u001b[0m_engine\u001b[0m\u001b[1;33m.\u001b[0m\u001b[0mget_loc\u001b[0m\u001b[1;33m(\u001b[0m\u001b[0mcasted_key\u001b[0m\u001b[1;33m)\u001b[0m\u001b[1;33m\u001b[0m\u001b[1;33m\u001b[0m\u001b[0m\n\u001b[0;32m   3081\u001b[0m             \u001b[1;32mexcept\u001b[0m \u001b[0mKeyError\u001b[0m \u001b[1;32mas\u001b[0m \u001b[0merr\u001b[0m\u001b[1;33m:\u001b[0m\u001b[1;33m\u001b[0m\u001b[1;33m\u001b[0m\u001b[0m\n\u001b[1;32m-> 3082\u001b[1;33m                 \u001b[1;32mraise\u001b[0m \u001b[0mKeyError\u001b[0m\u001b[1;33m(\u001b[0m\u001b[0mkey\u001b[0m\u001b[1;33m)\u001b[0m \u001b[1;32mfrom\u001b[0m \u001b[0merr\u001b[0m\u001b[1;33m\u001b[0m\u001b[1;33m\u001b[0m\u001b[0m\n\u001b[0m\u001b[0;32m   3083\u001b[0m \u001b[1;33m\u001b[0m\u001b[0m\n\u001b[0;32m   3084\u001b[0m         \u001b[1;32mif\u001b[0m \u001b[0mtolerance\u001b[0m \u001b[1;32mis\u001b[0m \u001b[1;32mnot\u001b[0m \u001b[1;32mNone\u001b[0m\u001b[1;33m:\u001b[0m\u001b[1;33m\u001b[0m\u001b[1;33m\u001b[0m\u001b[0m\n",
      "\u001b[1;31mKeyError\u001b[0m: 'Other_Credit_Score_Card'"
     ]
    }
   ],
   "source": [
    "LoanData=pd.DataFrame(data=df)\n",
    "print(LoanData.head())\n",
    "CrosstabResult=pd.crosstab(index=LoanData['Other_Credit_Score_Card'],columns=LoanData['PPI'])\n",
    "print(CrosstabResult)\n",
    " \n",
    "%matplotlib inline \n",
    "CrosstabResult.plot.bar()"
   ]
  },
  {
   "cell_type": "code",
   "execution_count": 20,
   "id": "f81b0eae",
   "metadata": {},
   "outputs": [
    {
     "name": "stdout",
     "output_type": "stream",
     "text": [
      "   Ref  Credit_Score Final_Grade  Term  Net_Advance   APR  Loan_Type  Mosaic  \\\n",
      "0    1           918           A    36       3000.0  14.4  UnSecured      46   \n",
      "1    3           903           A   120      21000.0   7.9  secured        16   \n",
      "2    4          1060           X    78       7200.0   7.9  secured        17   \n",
      "3    6           839           B    60       8000.0  16.9  UnSecured      47   \n",
      "4    7          1057           X    60       7650.0   7.4  UnSecured      55   \n",
      "\n",
      "   Mosaic_Class  Time_at_Address  ... PPI_SINGLE PPI_JOINT  PPI_LCI  \\\n",
      "0             8              132  ...          0         0        0   \n",
      "1             3              288  ...          0         0        1   \n",
      "2             3              276  ...          0         1        0   \n",
      "3             8               48  ...          0         0        1   \n",
      "4            10              156  ...          1         0        0   \n",
      "\n",
      "  Age Bucket Credit Score Bucket  Time at Address Bucket  \\\n",
      "0      46-60            700-1000               2-3 years   \n",
      "1      46-60            700-1000               > 5 years   \n",
      "2      46-60           1000-1300               > 5 years   \n",
      "3      26-35            700-1000                 <1 year   \n",
      "4      46-60           1000-1300               2-3 years   \n",
      "\n",
      "  Time in Employment Bucket Unnamed: 63 Unnamed: 64  Unnamed: 65  \n",
      "0                 > 5 years         NaN         NaN          NaN  \n",
      "1                   <1 year         NaN         NaN          NaN  \n",
      "2                 2-3 years         NaN         NaN          NaN  \n",
      "3                 1-2 years         NaN         NaN          NaN  \n",
      "4                 > 5 years         NaN         NaN          NaN  \n",
      "\n",
      "[5 rows x 66 columns]\n",
      "PPI                         0     1\n",
      "Other_Credit_Store_Card            \n",
      "FALSE                    5581  7395\n",
      "TRUE                     1341  2066\n"
     ]
    },
    {
     "data": {
      "text/plain": [
       "<AxesSubplot:xlabel='Other_Credit_Store_Card'>"
      ]
     },
     "execution_count": 20,
     "metadata": {},
     "output_type": "execute_result"
    },
    {
     "data": {
      "image/png": "[encoded data removed]",
      "text/plain": [
       "<Figure size 432x288 with 1 Axes>"
      ]
     },
     "metadata": {
      "needs_background": "light"
     },
     "output_type": "display_data"
    }
   ],
   "source": [
    "LoanData=pd.DataFrame(data=df)\n",
    "print(LoanData.head())\n",
    "CrosstabResult=pd.crosstab(index=LoanData['Other_Credit_Store_Card'],columns=LoanData['PPI'])\n",
    "print(CrosstabResult)\n",
    " \n",
    "%matplotlib inline \n",
    "CrosstabResult.plot.bar()"
   ]
  },
  {
   "cell_type": "code",
   "execution_count": 21,
   "id": "fe4893db",
   "metadata": {},
   "outputs": [
    {
     "name": "stdout",
     "output_type": "stream",
     "text": [
      "   Ref  Credit_Score Final_Grade  Term  Net_Advance   APR  Loan_Type  Mosaic  \\\n",
      "0    1           918           A    36       3000.0  14.4  UnSecured      46   \n",
      "1    3           903           A   120      21000.0   7.9  secured        16   \n",
      "2    4          1060           X    78       7200.0   7.9  secured        17   \n",
      "3    6           839           B    60       8000.0  16.9  UnSecured      47   \n",
      "4    7          1057           X    60       7650.0   7.4  UnSecured      55   \n",
      "\n",
      "   Mosaic_Class  Time_at_Address  ... PPI_SINGLE PPI_JOINT  PPI_LCI  \\\n",
      "0             8              132  ...          0         0        0   \n",
      "1             3              288  ...          0         0        1   \n",
      "2             3              276  ...          0         1        0   \n",
      "3             8               48  ...          0         0        1   \n",
      "4            10              156  ...          1         0        0   \n",
      "\n",
      "  Age Bucket Credit Score Bucket  Time at Address Bucket  \\\n",
      "0      46-60            700-1000               2-3 years   \n",
      "1      46-60            700-1000               > 5 years   \n",
      "2      46-60           1000-1300               > 5 years   \n",
      "3      26-35            700-1000                 <1 year   \n",
      "4      46-60           1000-1300               2-3 years   \n",
      "\n",
      "  Time in Employment Bucket Unnamed: 63 Unnamed: 64  Unnamed: 65  \n",
      "0                 > 5 years         NaN         NaN          NaN  \n",
      "1                   <1 year         NaN         NaN          NaN  \n",
      "2                 2-3 years         NaN         NaN          NaN  \n",
      "3                 1-2 years         NaN         NaN          NaN  \n",
      "4                 > 5 years         NaN         NaN          NaN  \n",
      "\n",
      "[5 rows x 66 columns]\n",
      "PPI             0     1\n",
      "Final_Grade            \n",
      "A            1889  2649\n",
      "B             832  1409\n",
      "C             581   957\n",
      "D             498   869\n",
      "E             416   677\n",
      "F             254   479\n",
      "O             172   169\n",
      "R             168   160\n",
      "S              43    85\n",
      "X            2069  2007\n"
     ]
    },
    {
     "data": {
      "text/plain": [
       "<AxesSubplot:xlabel='Final_Grade'>"
      ]
     },
     "execution_count": 21,
     "metadata": {},
     "output_type": "execute_result"
    },
    {
     "data": {
      "image/png": "[encoded data removed]",
      "text/plain": [
       "<Figure size 432x288 with 1 Axes>"
      ]
     },
     "metadata": {
      "needs_background": "light"
     },
     "output_type": "display_data"
    }
   ],
   "source": [
    "LoanData=pd.DataFrame(data=df)\n",
    "print(LoanData.head())\n",
    "CrosstabResult=pd.crosstab(index=LoanData['Final_Grade'],columns=LoanData['PPI'])\n",
    "print(CrosstabResult)\n",
    " \n",
    "%matplotlib inline \n",
    "CrosstabResult.plot.bar()"
   ]
  },
  {
   "cell_type": "code",
   "execution_count": 22,
   "id": "906947aa",
   "metadata": {},
   "outputs": [
    {
     "name": "stdout",
     "output_type": "stream",
     "text": [
      "   Ref  Credit_Score Final_Grade  Term  Net_Advance   APR  Loan_Type  Mosaic  \\\n",
      "0    1           918           A    36       3000.0  14.4  UnSecured      46   \n",
      "1    3           903           A   120      21000.0   7.9  secured        16   \n",
      "2    4          1060           X    78       7200.0   7.9  secured        17   \n",
      "3    6           839           B    60       8000.0  16.9  UnSecured      47   \n",
      "4    7          1057           X    60       7650.0   7.4  UnSecured      55   \n",
      "\n",
      "   Mosaic_Class  Time_at_Address  ... PPI_SINGLE PPI_JOINT  PPI_LCI  \\\n",
      "0             8              132  ...          0         0        0   \n",
      "1             3              288  ...          0         0        1   \n",
      "2             3              276  ...          0         1        0   \n",
      "3             8               48  ...          0         0        1   \n",
      "4            10              156  ...          1         0        0   \n",
      "\n",
      "  Age Bucket Credit Score Bucket  Time at Address Bucket  \\\n",
      "0      46-60            700-1000               2-3 years   \n",
      "1      46-60            700-1000               > 5 years   \n",
      "2      46-60           1000-1300               > 5 years   \n",
      "3      26-35            700-1000                 <1 year   \n",
      "4      46-60           1000-1300               2-3 years   \n",
      "\n",
      "  Time in Employment Bucket Unnamed: 63 Unnamed: 64  Unnamed: 65  \n",
      "0                 > 5 years         NaN         NaN          NaN  \n",
      "1                   <1 year         NaN         NaN          NaN  \n",
      "2                 2-3 years         NaN         NaN          NaN  \n",
      "3                 1-2 years         NaN         NaN          NaN  \n",
      "4                 > 5 years         NaN         NaN          NaN  \n",
      "\n",
      "[5 rows x 66 columns]\n",
      "PPI                    0     1\n",
      "Residential_Status            \n",
      "H                   5690  6882\n",
      "L                    268   482\n",
      "R                     75   101\n",
      "T                    889  1996\n"
     ]
    },
    {
     "data": {
      "text/plain": [
       "<AxesSubplot:xlabel='Residential_Status'>"
      ]
     },
     "execution_count": 22,
     "metadata": {},
     "output_type": "execute_result"
    },
    {
     "data": {
      "image/png": "[encoded data removed]",
      "text/plain": [
       "<Figure size 432x288 with 1 Axes>"
      ]
     },
     "metadata": {
      "needs_background": "light"
     },
     "output_type": "display_data"
    }
   ],
   "source": [
    "LoanData=pd.DataFrame(data=df)\n",
    "print(LoanData.head())\n",
    "CrosstabResult=pd.crosstab(index=LoanData['Residential_Status'],columns=LoanData['PPI'])\n",
    "print(CrosstabResult)\n",
    " \n",
    "%matplotlib inline \n",
    "CrosstabResult.plot.bar()"
   ]
  },
  {
   "cell_type": "code",
   "execution_count": 23,
   "id": "c66a6c08",
   "metadata": {},
   "outputs": [
    {
     "name": "stdout",
     "output_type": "stream",
     "text": [
      "   Ref  Credit_Score Final_Grade  Term  Net_Advance   APR  Loan_Type  Mosaic  \\\n",
      "0    1           918           A    36       3000.0  14.4  UnSecured      46   \n",
      "1    3           903           A   120      21000.0   7.9  secured        16   \n",
      "2    4          1060           X    78       7200.0   7.9  secured        17   \n",
      "3    6           839           B    60       8000.0  16.9  UnSecured      47   \n",
      "4    7          1057           X    60       7650.0   7.4  UnSecured      55   \n",
      "\n",
      "   Mosaic_Class  Time_at_Address  ... PPI_SINGLE PPI_JOINT  PPI_LCI  \\\n",
      "0             8              132  ...          0         0        0   \n",
      "1             3              288  ...          0         0        1   \n",
      "2             3              276  ...          0         1        0   \n",
      "3             8               48  ...          0         0        1   \n",
      "4            10              156  ...          1         0        0   \n",
      "\n",
      "  Age Bucket Credit Score Bucket  Time at Address Bucket  \\\n",
      "0      46-60            700-1000               2-3 years   \n",
      "1      46-60            700-1000               > 5 years   \n",
      "2      46-60           1000-1300               > 5 years   \n",
      "3      26-35            700-1000                 <1 year   \n",
      "4      46-60           1000-1300               2-3 years   \n",
      "\n",
      "  Time in Employment Bucket Unnamed: 63 Unnamed: 64  Unnamed: 65  \n",
      "0                 > 5 years         NaN         NaN          NaN  \n",
      "1                   <1 year         NaN         NaN          NaN  \n",
      "2                 2-3 years         NaN         NaN          NaN  \n",
      "3                 1-2 years         NaN         NaN          NaN  \n",
      "4                 > 5 years         NaN         NaN          NaN  \n",
      "\n",
      "[5 rows x 66 columns]\n",
      "PPI                0     1\n",
      "Marital_Status            \n",
      "D                598  1000\n",
      "M               4247  5185\n",
      "S               1981  3056\n",
      "W                 96   220\n"
     ]
    },
    {
     "data": {
      "text/plain": [
       "<AxesSubplot:xlabel='Marital_Status'>"
      ]
     },
     "execution_count": 23,
     "metadata": {},
     "output_type": "execute_result"
    },
    {
     "data": {
      "image/png": "[encoded data removed]",
      "text/plain": [
       "<Figure size 432x288 with 1 Axes>"
      ]
     },
     "metadata": {
      "needs_background": "light"
     },
     "output_type": "display_data"
    }
   ],
   "source": [
    "LoanData=pd.DataFrame(data=df)\n",
    "print(LoanData.head())\n",
    "CrosstabResult=pd.crosstab(index=LoanData['Marital_Status'],columns=LoanData['PPI'])\n",
    "print(CrosstabResult)\n",
    " \n",
    "%matplotlib inline \n",
    "CrosstabResult.plot.bar()"
   ]
  },
  {
   "cell_type": "code",
   "execution_count": 24,
   "id": "29c9c226",
   "metadata": {},
   "outputs": [
    {
     "name": "stdout",
     "output_type": "stream",
     "text": [
      "   Ref  Credit_Score Final_Grade  Term  Net_Advance   APR  Loan_Type  Mosaic  \\\n",
      "0    1           918           A    36       3000.0  14.4  UnSecured      46   \n",
      "1    3           903           A   120      21000.0   7.9  secured        16   \n",
      "2    4          1060           X    78       7200.0   7.9  secured        17   \n",
      "3    6           839           B    60       8000.0  16.9  UnSecured      47   \n",
      "4    7          1057           X    60       7650.0   7.4  UnSecured      55   \n",
      "\n",
      "   Mosaic_Class  Time_at_Address  ... PPI_SINGLE PPI_JOINT  PPI_LCI  \\\n",
      "0             8              132  ...          0         0        0   \n",
      "1             3              288  ...          0         0        1   \n",
      "2             3              276  ...          0         1        0   \n",
      "3             8               48  ...          0         0        1   \n",
      "4            10              156  ...          1         0        0   \n",
      "\n",
      "  Age Bucket Credit Score Bucket  Time at Address Bucket  \\\n",
      "0      46-60            700-1000               2-3 years   \n",
      "1      46-60            700-1000               > 5 years   \n",
      "2      46-60           1000-1300               > 5 years   \n",
      "3      26-35            700-1000                 <1 year   \n",
      "4      46-60           1000-1300               2-3 years   \n",
      "\n",
      "  Time in Employment Bucket Unnamed: 63 Unnamed: 64  Unnamed: 65  \n",
      "0                 > 5 years         NaN         NaN          NaN  \n",
      "1                   <1 year         NaN         NaN          NaN  \n",
      "2                 2-3 years         NaN         NaN          NaN  \n",
      "3                 1-2 years         NaN         NaN          NaN  \n",
      "4                 > 5 years         NaN         NaN          NaN  \n",
      "\n",
      "[5 rows x 66 columns]\n",
      "PPI                 0     1\n",
      "Current_Account            \n",
      "FALS               14    18\n",
      "TRUE             6908  9443\n"
     ]
    },
    {
     "data": {
      "text/plain": [
       "<AxesSubplot:xlabel='Current_Account'>"
      ]
     },
     "execution_count": 24,
     "metadata": {},
     "output_type": "execute_result"
    },
    {
     "data": {
      "image/png": "[encoded data removed]",
      "text/plain": [
       "<Figure size 432x288 with 1 Axes>"
      ]
     },
     "metadata": {
      "needs_background": "light"
     },
     "output_type": "display_data"
    }
   ],
   "source": [
    "LoanData=pd.DataFrame(data=df)\n",
    "print(LoanData.head())\n",
    "CrosstabResult=pd.crosstab(index=LoanData['Current_Account'],columns=LoanData['PPI'])\n",
    "print(CrosstabResult)\n",
    " \n",
    "%matplotlib inline \n",
    "CrosstabResult.plot.bar()"
   ]
  },
  {
   "cell_type": "code",
   "execution_count": 25,
   "id": "bcbc793b",
   "metadata": {
    "scrolled": true
   },
   "outputs": [
    {
     "name": "stdout",
     "output_type": "stream",
     "text": [
      "   Ref  Credit_Score Final_Grade  Term  Net_Advance   APR  Loan_Type  Mosaic  \\\n",
      "0    1           918           A    36       3000.0  14.4  UnSecured      46   \n",
      "1    3           903           A   120      21000.0   7.9  secured        16   \n",
      "2    4          1060           X    78       7200.0   7.9  secured        17   \n",
      "3    6           839           B    60       8000.0  16.9  UnSecured      47   \n",
      "4    7          1057           X    60       7650.0   7.4  UnSecured      55   \n",
      "\n",
      "   Mosaic_Class  Time_at_Address  ... PPI_SINGLE PPI_JOINT  PPI_LCI  \\\n",
      "0             8              132  ...          0         0        0   \n",
      "1             3              288  ...          0         0        1   \n",
      "2             3              276  ...          0         1        0   \n",
      "3             8               48  ...          0         0        1   \n",
      "4            10              156  ...          1         0        0   \n",
      "\n",
      "  Age Bucket Credit Score Bucket  Time at Address Bucket  \\\n",
      "0      46-60            700-1000               2-3 years   \n",
      "1      46-60            700-1000               > 5 years   \n",
      "2      46-60           1000-1300               > 5 years   \n",
      "3      26-35            700-1000                 <1 year   \n",
      "4      46-60           1000-1300               2-3 years   \n",
      "\n",
      "  Time in Employment Bucket Unnamed: 63 Unnamed: 64  Unnamed: 65  \n",
      "0                 > 5 years         NaN         NaN          NaN  \n",
      "1                   <1 year         NaN         NaN          NaN  \n",
      "2                 2-3 years         NaN         NaN          NaN  \n",
      "3                 1-2 years         NaN         NaN          NaN  \n",
      "4                 > 5 years         NaN         NaN          NaN  \n",
      "\n",
      "[5 rows x 66 columns]\n",
      "PPI                            1\n",
      "Insurance_Description           \n",
      "1st Cust - LASCI / 2          57\n",
      "1st Cust - LASU / 2n         200\n",
      "1st Cust LASCI / 2nd          10\n",
      "1st Cust LASU / 2nd            8\n",
      "1st Cust-LASCI /2nd           12\n",
      "1st Cust-LASU/ 2nd C          42\n",
      "Bronze                         8\n",
      "Foundation                     5\n",
      "Gold                          63\n",
      "JOINT LASCI                   39\n",
      "JOINT LASU                   159\n",
      "JOINT LIFE & CRITICA         283\n",
      "Joint                        989\n",
      "Joint Life & Critica          68\n",
      "LASCI                        717\n",
      "LASU                        2351\n",
      "LIFE & CRITICAL ILLN        1025\n",
      "Life & CI                    795\n",
      "Life & Critical Illn         248\n",
      "Other                        495\n",
      "Plus                          23\n",
      "Select                         8\n",
      "Silver                         7\n",
      "Single                      1849\n"
     ]
    },
    {
     "data": {
      "text/plain": [
       "<AxesSubplot:xlabel='Insurance_Description'>"
      ]
     },
     "execution_count": 25,
     "metadata": {},
     "output_type": "execute_result"
    },
    {
     "data": {
      "image/png": "[encoded data removed]",
      "text/plain": [
       "<Figure size 432x288 with 1 Axes>"
      ]
     },
     "metadata": {
      "needs_background": "light"
     },
     "output_type": "display_data"
    }
   ],
   "source": [
    "LoanData=pd.DataFrame(data=df)\n",
    "print(LoanData.head())\n",
    "CrosstabResult=pd.crosstab(index=LoanData['Insurance_Description'],columns=LoanData['PPI'])\n",
    "print(CrosstabResult)\n",
    " \n",
    "%matplotlib inline \n",
    "CrosstabResult.plot.bar()"
   ]
  },
  {
   "cell_type": "code",
   "execution_count": 26,
   "id": "810bf2ca",
   "metadata": {},
   "outputs": [
    {
     "name": "stdout",
     "output_type": "stream",
     "text": [
      "   Ref  Credit_Score Final_Grade  Term  Net_Advance   APR  Loan_Type  Mosaic  \\\n",
      "0    1           918           A    36       3000.0  14.4  UnSecured      46   \n",
      "1    3           903           A   120      21000.0   7.9  secured        16   \n",
      "2    4          1060           X    78       7200.0   7.9  secured        17   \n",
      "3    6           839           B    60       8000.0  16.9  UnSecured      47   \n",
      "4    7          1057           X    60       7650.0   7.4  UnSecured      55   \n",
      "\n",
      "   Mosaic_Class  Time_at_Address  ... PPI_SINGLE PPI_JOINT  PPI_LCI  \\\n",
      "0             8              132  ...          0         0        0   \n",
      "1             3              288  ...          0         0        1   \n",
      "2             3              276  ...          0         1        0   \n",
      "3             8               48  ...          0         0        1   \n",
      "4            10              156  ...          1         0        0   \n",
      "\n",
      "  Age Bucket Credit Score Bucket  Time at Address Bucket  \\\n",
      "0      46-60            700-1000               2-3 years   \n",
      "1      46-60            700-1000               > 5 years   \n",
      "2      46-60           1000-1300               > 5 years   \n",
      "3      26-35            700-1000                 <1 year   \n",
      "4      46-60           1000-1300               2-3 years   \n",
      "\n",
      "  Time in Employment Bucket Unnamed: 63 Unnamed: 64  Unnamed: 65  \n",
      "0                 > 5 years         NaN         NaN          NaN  \n",
      "1                   <1 year         NaN         NaN          NaN  \n",
      "2                 2-3 years         NaN         NaN          NaN  \n",
      "3                 1-2 years         NaN         NaN          NaN  \n",
      "4                 > 5 years         NaN         NaN          NaN  \n",
      "\n",
      "[5 rows x 66 columns]\n",
      "PPI                        0     1\n",
      "Time at Address Bucket            \n",
      "1-2 years               1679  2167\n",
      "2-3 years                968  1481\n",
      "3-4 years                587   908\n",
      "4-5 years                507   761\n",
      "<1 year                 2544  2845\n",
      "> 5 years                637  1299\n"
     ]
    },
    {
     "data": {
      "text/plain": [
       "<AxesSubplot:xlabel='Time at Address Bucket'>"
      ]
     },
     "execution_count": 26,
     "metadata": {},
     "output_type": "execute_result"
    },
    {
     "data": {
      "image/png": "[encoded data removed]",
      "text/plain": [
       "<Figure size 432x288 with 1 Axes>"
      ]
     },
     "metadata": {
      "needs_background": "light"
     },
     "output_type": "display_data"
    }
   ],
   "source": [
    "LoanData=pd.DataFrame(data=df)\n",
    "print(LoanData.head())\n",
    "CrosstabResult=pd.crosstab(index=LoanData['Time at Address Bucket'],columns=LoanData['PPI'])\n",
    "print(CrosstabResult)\n",
    " \n",
    "%matplotlib inline \n",
    "CrosstabResult.plot.bar()"
   ]
  },
  {
   "cell_type": "code",
   "execution_count": 27,
   "id": "2f283ade",
   "metadata": {},
   "outputs": [
    {
     "name": "stdout",
     "output_type": "stream",
     "text": [
      "   Ref  Credit_Score Final_Grade  Term  Net_Advance   APR  Loan_Type  Mosaic  \\\n",
      "0    1           918           A    36       3000.0  14.4  UnSecured      46   \n",
      "1    3           903           A   120      21000.0   7.9  secured        16   \n",
      "2    4          1060           X    78       7200.0   7.9  secured        17   \n",
      "3    6           839           B    60       8000.0  16.9  UnSecured      47   \n",
      "4    7          1057           X    60       7650.0   7.4  UnSecured      55   \n",
      "\n",
      "   Mosaic_Class  Time_at_Address  ... PPI_SINGLE PPI_JOINT  PPI_LCI  \\\n",
      "0             8              132  ...          0         0        0   \n",
      "1             3              288  ...          0         0        1   \n",
      "2             3              276  ...          0         1        0   \n",
      "3             8               48  ...          0         0        1   \n",
      "4            10              156  ...          1         0        0   \n",
      "\n",
      "  Age Bucket Credit Score Bucket  Time at Address Bucket  \\\n",
      "0      46-60            700-1000               2-3 years   \n",
      "1      46-60            700-1000               > 5 years   \n",
      "2      46-60           1000-1300               > 5 years   \n",
      "3      26-35            700-1000                 <1 year   \n",
      "4      46-60           1000-1300               2-3 years   \n",
      "\n",
      "  Time in Employment Bucket Unnamed: 63 Unnamed: 64  Unnamed: 65  \n",
      "0                 > 5 years         NaN         NaN          NaN  \n",
      "1                   <1 year         NaN         NaN          NaN  \n",
      "2                 2-3 years         NaN         NaN          NaN  \n",
      "3                 1-2 years         NaN         NaN          NaN  \n",
      "4                 > 5 years         NaN         NaN          NaN  \n",
      "\n",
      "[5 rows x 66 columns]\n",
      "PPI                     0     1\n",
      "Total___of_accounts            \n",
      "-1                      4     4\n",
      " 0                    175    89\n",
      " 1                    220   410\n",
      " 2                    385   692\n",
      " 3                    566  1022\n",
      " 4                    616  1113\n",
      " 5                    666  1106\n",
      " 6                    644   957\n",
      " 7                    633   838\n",
      " 8                    599   760\n",
      " 9                   2414  2470\n"
     ]
    },
    {
     "data": {
      "text/plain": [
       "<AxesSubplot:xlabel='Total___of_accounts'>"
      ]
     },
     "execution_count": 27,
     "metadata": {},
     "output_type": "execute_result"
    },
    {
     "data": {
      "image/png": "[encoded data removed]",
      "text/plain": [
       "<Figure size 432x288 with 1 Axes>"
      ]
     },
     "metadata": {
      "needs_background": "light"
     },
     "output_type": "display_data"
    }
   ],
   "source": [
    "LoanData=pd.DataFrame(data=df)\n",
    "print(LoanData.head())\n",
    "CrosstabResult=pd.crosstab(index=LoanData['Total___of_accounts'],columns=LoanData['PPI'])\n",
    "print(CrosstabResult)\n",
    " \n",
    "%matplotlib inline \n",
    "CrosstabResult.plot.bar()"
   ]
  },
  {
   "cell_type": "code",
   "execution_count": 28,
   "id": "04583364",
   "metadata": {},
   "outputs": [
    {
     "name": "stdout",
     "output_type": "stream",
     "text": [
      "   Ref  Credit_Score Final_Grade  Term  Net_Advance   APR  Loan_Type  Mosaic  \\\n",
      "0    1           918           A    36       3000.0  14.4  UnSecured      46   \n",
      "1    3           903           A   120      21000.0   7.9  secured        16   \n",
      "2    4          1060           X    78       7200.0   7.9  secured        17   \n",
      "3    6           839           B    60       8000.0  16.9  UnSecured      47   \n",
      "4    7          1057           X    60       7650.0   7.4  UnSecured      55   \n",
      "\n",
      "   Mosaic_Class  Time_at_Address  ... PPI_SINGLE PPI_JOINT  PPI_LCI  \\\n",
      "0             8              132  ...          0         0        0   \n",
      "1             3              288  ...          0         0        1   \n",
      "2             3              276  ...          0         1        0   \n",
      "3             8               48  ...          0         0        1   \n",
      "4            10              156  ...          1         0        0   \n",
      "\n",
      "  Age Bucket Credit Score Bucket  Time at Address Bucket  \\\n",
      "0      46-60            700-1000               2-3 years   \n",
      "1      46-60            700-1000               > 5 years   \n",
      "2      46-60           1000-1300               > 5 years   \n",
      "3      26-35            700-1000                 <1 year   \n",
      "4      46-60           1000-1300               2-3 years   \n",
      "\n",
      "  Time in Employment Bucket Unnamed: 63 Unnamed: 64  Unnamed: 65  \n",
      "0                 > 5 years         NaN         NaN          NaN  \n",
      "1                   <1 year         NaN         NaN          NaN  \n",
      "2                 2-3 years         NaN         NaN          NaN  \n",
      "3                 1-2 years         NaN         NaN          NaN  \n",
      "4                 > 5 years         NaN         NaN          NaN  \n",
      "\n",
      "[5 rows x 66 columns]\n"
     ]
    },
    {
     "ename": "KeyError",
     "evalue": "'VISA_CARD'",
     "output_type": "error",
     "traceback": [
      "\u001b[1;31m---------------------------------------------------------------------------\u001b[0m",
      "\u001b[1;31mKeyError\u001b[0m                                  Traceback (most recent call last)",
      "\u001b[1;32m~\\anaconda3\\lib\\site-packages\\pandas\\core\\indexes\\base.py\u001b[0m in \u001b[0;36mget_loc\u001b[1;34m(self, key, method, tolerance)\u001b[0m\n\u001b[0;32m   3079\u001b[0m             \u001b[1;32mtry\u001b[0m\u001b[1;33m:\u001b[0m\u001b[1;33m\u001b[0m\u001b[1;33m\u001b[0m\u001b[0m\n\u001b[1;32m-> 3080\u001b[1;33m                 \u001b[1;32mreturn\u001b[0m \u001b[0mself\u001b[0m\u001b[1;33m.\u001b[0m\u001b[0m_engine\u001b[0m\u001b[1;33m.\u001b[0m\u001b[0mget_loc\u001b[0m\u001b[1;33m(\u001b[0m\u001b[0mcasted_key\u001b[0m\u001b[1;33m)\u001b[0m\u001b[1;33m\u001b[0m\u001b[1;33m\u001b[0m\u001b[0m\n\u001b[0m\u001b[0;32m   3081\u001b[0m             \u001b[1;32mexcept\u001b[0m \u001b[0mKeyError\u001b[0m \u001b[1;32mas\u001b[0m \u001b[0merr\u001b[0m\u001b[1;33m:\u001b[0m\u001b[1;33m\u001b[0m\u001b[1;33m\u001b[0m\u001b[0m\n",
      "\u001b[1;32mpandas\\_libs\\index.pyx\u001b[0m in \u001b[0;36mpandas._libs.index.IndexEngine.get_loc\u001b[1;34m()\u001b[0m\n",
      "\u001b[1;32mpandas\\_libs\\index.pyx\u001b[0m in \u001b[0;36mpandas._libs.index.IndexEngine.get_loc\u001b[1;34m()\u001b[0m\n",
      "\u001b[1;32mpandas\\_libs\\hashtable_class_helper.pxi\u001b[0m in \u001b[0;36mpandas._libs.hashtable.PyObjectHashTable.get_item\u001b[1;34m()\u001b[0m\n",
      "\u001b[1;32mpandas\\_libs\\hashtable_class_helper.pxi\u001b[0m in \u001b[0;36mpandas._libs.hashtable.PyObjectHashTable.get_item\u001b[1;34m()\u001b[0m\n",
      "\u001b[1;31mKeyError\u001b[0m: 'VISA_CARD'",
      "\nThe above exception was the direct cause of the following exception:\n",
      "\u001b[1;31mKeyError\u001b[0m                                  Traceback (most recent call last)",
      "\u001b[1;32m<ipython-input-28-267119ffac40>\u001b[0m in \u001b[0;36m<module>\u001b[1;34m\u001b[0m\n\u001b[0;32m      1\u001b[0m \u001b[0mLoanData\u001b[0m\u001b[1;33m=\u001b[0m\u001b[0mpd\u001b[0m\u001b[1;33m.\u001b[0m\u001b[0mDataFrame\u001b[0m\u001b[1;33m(\u001b[0m\u001b[0mdata\u001b[0m\u001b[1;33m=\u001b[0m\u001b[0mdf\u001b[0m\u001b[1;33m)\u001b[0m\u001b[1;33m\u001b[0m\u001b[1;33m\u001b[0m\u001b[0m\n\u001b[0;32m      2\u001b[0m \u001b[0mprint\u001b[0m\u001b[1;33m(\u001b[0m\u001b[0mLoanData\u001b[0m\u001b[1;33m.\u001b[0m\u001b[0mhead\u001b[0m\u001b[1;33m(\u001b[0m\u001b[1;33m)\u001b[0m\u001b[1;33m)\u001b[0m\u001b[1;33m\u001b[0m\u001b[1;33m\u001b[0m\u001b[0m\n\u001b[1;32m----> 3\u001b[1;33m \u001b[0mCrosstabResult\u001b[0m\u001b[1;33m=\u001b[0m\u001b[0mpd\u001b[0m\u001b[1;33m.\u001b[0m\u001b[0mcrosstab\u001b[0m\u001b[1;33m(\u001b[0m\u001b[0mindex\u001b[0m\u001b[1;33m=\u001b[0m\u001b[0mLoanData\u001b[0m\u001b[1;33m[\u001b[0m\u001b[1;34m'VISA_CARD'\u001b[0m\u001b[1;33m]\u001b[0m\u001b[1;33m,\u001b[0m\u001b[0mcolumns\u001b[0m\u001b[1;33m=\u001b[0m\u001b[0mLoanData\u001b[0m\u001b[1;33m[\u001b[0m\u001b[1;34m'PPI'\u001b[0m\u001b[1;33m]\u001b[0m\u001b[1;33m)\u001b[0m\u001b[1;33m\u001b[0m\u001b[1;33m\u001b[0m\u001b[0m\n\u001b[0m\u001b[0;32m      4\u001b[0m \u001b[0mprint\u001b[0m\u001b[1;33m(\u001b[0m\u001b[0mCrosstabResult\u001b[0m\u001b[1;33m)\u001b[0m\u001b[1;33m\u001b[0m\u001b[1;33m\u001b[0m\u001b[0m\n\u001b[0;32m      5\u001b[0m \u001b[1;33m\u001b[0m\u001b[0m\n",
      "\u001b[1;32m~\\anaconda3\\lib\\site-packages\\pandas\\core\\frame.py\u001b[0m in \u001b[0;36m__getitem__\u001b[1;34m(self, key)\u001b[0m\n\u001b[0;32m   3022\u001b[0m             \u001b[1;32mif\u001b[0m \u001b[0mself\u001b[0m\u001b[1;33m.\u001b[0m\u001b[0mcolumns\u001b[0m\u001b[1;33m.\u001b[0m\u001b[0mnlevels\u001b[0m \u001b[1;33m>\u001b[0m \u001b[1;36m1\u001b[0m\u001b[1;33m:\u001b[0m\u001b[1;33m\u001b[0m\u001b[1;33m\u001b[0m\u001b[0m\n\u001b[0;32m   3023\u001b[0m                 \u001b[1;32mreturn\u001b[0m \u001b[0mself\u001b[0m\u001b[1;33m.\u001b[0m\u001b[0m_getitem_multilevel\u001b[0m\u001b[1;33m(\u001b[0m\u001b[0mkey\u001b[0m\u001b[1;33m)\u001b[0m\u001b[1;33m\u001b[0m\u001b[1;33m\u001b[0m\u001b[0m\n\u001b[1;32m-> 3024\u001b[1;33m             \u001b[0mindexer\u001b[0m \u001b[1;33m=\u001b[0m \u001b[0mself\u001b[0m\u001b[1;33m.\u001b[0m\u001b[0mcolumns\u001b[0m\u001b[1;33m.\u001b[0m\u001b[0mget_loc\u001b[0m\u001b[1;33m(\u001b[0m\u001b[0mkey\u001b[0m\u001b[1;33m)\u001b[0m\u001b[1;33m\u001b[0m\u001b[1;33m\u001b[0m\u001b[0m\n\u001b[0m\u001b[0;32m   3025\u001b[0m             \u001b[1;32mif\u001b[0m \u001b[0mis_integer\u001b[0m\u001b[1;33m(\u001b[0m\u001b[0mindexer\u001b[0m\u001b[1;33m)\u001b[0m\u001b[1;33m:\u001b[0m\u001b[1;33m\u001b[0m\u001b[1;33m\u001b[0m\u001b[0m\n\u001b[0;32m   3026\u001b[0m                 \u001b[0mindexer\u001b[0m \u001b[1;33m=\u001b[0m \u001b[1;33m[\u001b[0m\u001b[0mindexer\u001b[0m\u001b[1;33m]\u001b[0m\u001b[1;33m\u001b[0m\u001b[1;33m\u001b[0m\u001b[0m\n",
      "\u001b[1;32m~\\anaconda3\\lib\\site-packages\\pandas\\core\\indexes\\base.py\u001b[0m in \u001b[0;36mget_loc\u001b[1;34m(self, key, method, tolerance)\u001b[0m\n\u001b[0;32m   3080\u001b[0m                 \u001b[1;32mreturn\u001b[0m \u001b[0mself\u001b[0m\u001b[1;33m.\u001b[0m\u001b[0m_engine\u001b[0m\u001b[1;33m.\u001b[0m\u001b[0mget_loc\u001b[0m\u001b[1;33m(\u001b[0m\u001b[0mcasted_key\u001b[0m\u001b[1;33m)\u001b[0m\u001b[1;33m\u001b[0m\u001b[1;33m\u001b[0m\u001b[0m\n\u001b[0;32m   3081\u001b[0m             \u001b[1;32mexcept\u001b[0m \u001b[0mKeyError\u001b[0m \u001b[1;32mas\u001b[0m \u001b[0merr\u001b[0m\u001b[1;33m:\u001b[0m\u001b[1;33m\u001b[0m\u001b[1;33m\u001b[0m\u001b[0m\n\u001b[1;32m-> 3082\u001b[1;33m                 \u001b[1;32mraise\u001b[0m \u001b[0mKeyError\u001b[0m\u001b[1;33m(\u001b[0m\u001b[0mkey\u001b[0m\u001b[1;33m)\u001b[0m \u001b[1;32mfrom\u001b[0m \u001b[0merr\u001b[0m\u001b[1;33m\u001b[0m\u001b[1;33m\u001b[0m\u001b[0m\n\u001b[0m\u001b[0;32m   3083\u001b[0m \u001b[1;33m\u001b[0m\u001b[0m\n\u001b[0;32m   3084\u001b[0m         \u001b[1;32mif\u001b[0m \u001b[0mtolerance\u001b[0m \u001b[1;32mis\u001b[0m \u001b[1;32mnot\u001b[0m \u001b[1;32mNone\u001b[0m\u001b[1;33m:\u001b[0m\u001b[1;33m\u001b[0m\u001b[1;33m\u001b[0m\u001b[0m\n",
      "\u001b[1;31mKeyError\u001b[0m: 'VISA_CARD'"
     ]
    }
   ],
   "source": [
    "LoanData=pd.DataFrame(data=df)\n",
    "print(LoanData.head())\n",
    "CrosstabResult=pd.crosstab(index=LoanData['VISA_CARD'],columns=LoanData['PPI'])\n",
    "print(CrosstabResult)\n",
    " \n",
    "%matplotlib inline \n",
    "CrosstabResult.plot.bar()"
   ]
  },
  {
   "cell_type": "code",
   "execution_count": 29,
   "id": "2dc871d2",
   "metadata": {},
   "outputs": [
    {
     "name": "stdout",
     "output_type": "stream",
     "text": [
      "   Ref  Credit_Score Final_Grade  Term  Net_Advance   APR  Loan_Type  Mosaic  \\\n",
      "0    1           918           A    36       3000.0  14.4  UnSecured      46   \n",
      "1    3           903           A   120      21000.0   7.9  secured        16   \n",
      "2    4          1060           X    78       7200.0   7.9  secured        17   \n",
      "3    6           839           B    60       8000.0  16.9  UnSecured      47   \n",
      "4    7          1057           X    60       7650.0   7.4  UnSecured      55   \n",
      "\n",
      "   Mosaic_Class  Time_at_Address  ... PPI_SINGLE PPI_JOINT  PPI_LCI  \\\n",
      "0             8              132  ...          0         0        0   \n",
      "1             3              288  ...          0         0        1   \n",
      "2             3              276  ...          0         1        0   \n",
      "3             8               48  ...          0         0        1   \n",
      "4            10              156  ...          1         0        0   \n",
      "\n",
      "  Age Bucket Credit Score Bucket  Time at Address Bucket  \\\n",
      "0      46-60            700-1000               2-3 years   \n",
      "1      46-60            700-1000               > 5 years   \n",
      "2      46-60           1000-1300               > 5 years   \n",
      "3      26-35            700-1000                 <1 year   \n",
      "4      46-60           1000-1300               2-3 years   \n",
      "\n",
      "  Time in Employment Bucket Unnamed: 63 Unnamed: 64  Unnamed: 65  \n",
      "0                 > 5 years         NaN         NaN          NaN  \n",
      "1                   <1 year         NaN         NaN          NaN  \n",
      "2                 2-3 years         NaN         NaN          NaN  \n",
      "3                 1-2 years         NaN         NaN          NaN  \n",
      "4                 > 5 years         NaN         NaN          NaN  \n",
      "\n",
      "[5 rows x 66 columns]\n",
      "PPI           0     1\n",
      "VISA_Card            \n",
      "FALSE      1850  2446\n",
      "TRUE       5072  7015\n"
     ]
    },
    {
     "data": {
      "text/plain": [
       "<AxesSubplot:xlabel='VISA_Card'>"
      ]
     },
     "execution_count": 29,
     "metadata": {},
     "output_type": "execute_result"
    },
    {
     "data": {
      "image/png": "[encoded data removed]",
      "text/plain": [
       "<Figure size 432x288 with 1 Axes>"
      ]
     },
     "metadata": {
      "needs_background": "light"
     },
     "output_type": "display_data"
    }
   ],
   "source": [
    "LoanData=pd.DataFrame(data=df)\n",
    "print(LoanData.head())\n",
    "CrosstabResult=pd.crosstab(index=LoanData['VISA_Card'],columns=LoanData['PPI'])\n",
    "print(CrosstabResult)\n",
    " \n",
    "%matplotlib inline \n",
    "CrosstabResult.plot.bar()"
   ]
  },
  {
   "cell_type": "code",
   "execution_count": 30,
   "id": "a8a28206",
   "metadata": {},
   "outputs": [
    {
     "name": "stdout",
     "output_type": "stream",
     "text": [
      "   Ref  Credit_Score Final_Grade  Term  Net_Advance   APR  Loan_Type  Mosaic  \\\n",
      "0    1           918           A    36       3000.0  14.4  UnSecured      46   \n",
      "1    3           903           A   120      21000.0   7.9  secured        16   \n",
      "2    4          1060           X    78       7200.0   7.9  secured        17   \n",
      "3    6           839           B    60       8000.0  16.9  UnSecured      47   \n",
      "4    7          1057           X    60       7650.0   7.4  UnSecured      55   \n",
      "\n",
      "   Mosaic_Class  Time_at_Address  ... PPI_SINGLE PPI_JOINT  PPI_LCI  \\\n",
      "0             8              132  ...          0         0        0   \n",
      "1             3              288  ...          0         0        1   \n",
      "2             3              276  ...          0         1        0   \n",
      "3             8               48  ...          0         0        1   \n",
      "4            10              156  ...          1         0        0   \n",
      "\n",
      "  Age Bucket Credit Score Bucket  Time at Address Bucket  \\\n",
      "0      46-60            700-1000               2-3 years   \n",
      "1      46-60            700-1000               > 5 years   \n",
      "2      46-60           1000-1300               > 5 years   \n",
      "3      26-35            700-1000                 <1 year   \n",
      "4      46-60           1000-1300               2-3 years   \n",
      "\n",
      "  Time in Employment Bucket Unnamed: 63 Unnamed: 64  Unnamed: 65  \n",
      "0                 > 5 years         NaN         NaN          NaN  \n",
      "1                   <1 year         NaN         NaN          NaN  \n",
      "2                 2-3 years         NaN         NaN          NaN  \n",
      "3                 1-2 years         NaN         NaN          NaN  \n",
      "4                 > 5 years         NaN         NaN          NaN  \n",
      "\n",
      "[5 rows x 66 columns]\n",
      "PPI                  0     1\n",
      "American_Express            \n",
      "FALSE             6844  9383\n",
      "TRUE                78    78\n"
     ]
    },
    {
     "data": {
      "text/plain": [
       "<AxesSubplot:xlabel='American_Express'>"
      ]
     },
     "execution_count": 30,
     "metadata": {},
     "output_type": "execute_result"
    },
    {
     "data": {
      "image/png": "[encoded data removed]",
      "text/plain": [
       "<Figure size 432x288 with 1 Axes>"
      ]
     },
     "metadata": {
      "needs_background": "light"
     },
     "output_type": "display_data"
    }
   ],
   "source": [
    "LoanData=pd.DataFrame(data=df)\n",
    "print(LoanData.head())\n",
    "CrosstabResult=pd.crosstab(index=LoanData['American_Express'],columns=LoanData['PPI'])\n",
    "print(CrosstabResult)\n",
    " \n",
    "%matplotlib inline \n",
    "CrosstabResult.plot.bar()"
   ]
  },
  {
   "cell_type": "code",
   "execution_count": 31,
   "id": "6a13691a",
   "metadata": {},
   "outputs": [
    {
     "name": "stdout",
     "output_type": "stream",
     "text": [
      "   Ref  Credit_Score Final_Grade  Term  Net_Advance   APR  Loan_Type  Mosaic  \\\n",
      "0    1           918           A    36       3000.0  14.4  UnSecured      46   \n",
      "1    3           903           A   120      21000.0   7.9  secured        16   \n",
      "2    4          1060           X    78       7200.0   7.9  secured        17   \n",
      "3    6           839           B    60       8000.0  16.9  UnSecured      47   \n",
      "4    7          1057           X    60       7650.0   7.4  UnSecured      55   \n",
      "\n",
      "   Mosaic_Class  Time_at_Address  ... PPI_SINGLE PPI_JOINT  PPI_LCI  \\\n",
      "0             8              132  ...          0         0        0   \n",
      "1             3              288  ...          0         0        1   \n",
      "2             3              276  ...          0         1        0   \n",
      "3             8               48  ...          0         0        1   \n",
      "4            10              156  ...          1         0        0   \n",
      "\n",
      "  Age Bucket Credit Score Bucket  Time at Address Bucket  \\\n",
      "0      46-60            700-1000               2-3 years   \n",
      "1      46-60            700-1000               > 5 years   \n",
      "2      46-60           1000-1300               > 5 years   \n",
      "3      26-35            700-1000                 <1 year   \n",
      "4      46-60           1000-1300               2-3 years   \n",
      "\n",
      "  Time in Employment Bucket Unnamed: 63 Unnamed: 64  Unnamed: 65  \n",
      "0                 > 5 years         NaN         NaN          NaN  \n",
      "1                   <1 year         NaN         NaN          NaN  \n",
      "2                 2-3 years         NaN         NaN          NaN  \n",
      "3                 1-2 years         NaN         NaN          NaN  \n",
      "4                 > 5 years         NaN         NaN          NaN  \n",
      "\n",
      "[5 rows x 66 columns]\n",
      "PPI                   0     1\n",
      "Employment_Status            \n",
      "D                    89   236\n",
      "G                  1455  1684\n",
      "H                     2     3\n",
      "M                    67    40\n",
      "P                  4071  6047\n",
      "R                   244   388\n",
      "S                   991  1058\n",
      "T                     1     1\n",
      "U                     2     4\n"
     ]
    },
    {
     "data": {
      "text/plain": [
       "<AxesSubplot:xlabel='Employment_Status'>"
      ]
     },
     "execution_count": 31,
     "metadata": {},
     "output_type": "execute_result"
    },
    {
     "data": {
      "image/png": "[encoded data removed]",
      "text/plain": [
       "<Figure size 432x288 with 1 Axes>"
      ]
     },
     "metadata": {
      "needs_background": "light"
     },
     "output_type": "display_data"
    }
   ],
   "source": [
    "LoanData=pd.DataFrame(data=df)\n",
    "print(LoanData.head())\n",
    "CrosstabResult=pd.crosstab(index=LoanData['Employment_Status'],columns=LoanData['PPI'])\n",
    "print(CrosstabResult)\n",
    " \n",
    "%matplotlib inline \n",
    "CrosstabResult.plot.bar()"
   ]
  },
  {
   "cell_type": "code",
   "execution_count": 32,
   "id": "b07bd307",
   "metadata": {},
   "outputs": [
    {
     "name": "stdout",
     "output_type": "stream",
     "text": [
      "   Ref  Credit_Score Final_Grade  Term  Net_Advance   APR  Loan_Type  Mosaic  \\\n",
      "0    1           918           A    36       3000.0  14.4  UnSecured      46   \n",
      "1    3           903           A   120      21000.0   7.9  secured        16   \n",
      "2    4          1060           X    78       7200.0   7.9  secured        17   \n",
      "3    6           839           B    60       8000.0  16.9  UnSecured      47   \n",
      "4    7          1057           X    60       7650.0   7.4  UnSecured      55   \n",
      "\n",
      "   Mosaic_Class  Time_at_Address  ... PPI_SINGLE PPI_JOINT  PPI_LCI  \\\n",
      "0             8              132  ...          0         0        0   \n",
      "1             3              288  ...          0         0        1   \n",
      "2             3              276  ...          0         1        0   \n",
      "3             8               48  ...          0         0        1   \n",
      "4            10              156  ...          1         0        0   \n",
      "\n",
      "  Age Bucket Credit Score Bucket  Time at Address Bucket  \\\n",
      "0      46-60            700-1000               2-3 years   \n",
      "1      46-60            700-1000               > 5 years   \n",
      "2      46-60           1000-1300               > 5 years   \n",
      "3      26-35            700-1000                 <1 year   \n",
      "4      46-60           1000-1300               2-3 years   \n",
      "\n",
      "  Time in Employment Bucket Unnamed: 63 Unnamed: 64  Unnamed: 65  \n",
      "0                 > 5 years         NaN         NaN          NaN  \n",
      "1                   <1 year         NaN         NaN          NaN  \n",
      "2                 2-3 years         NaN         NaN          NaN  \n",
      "3                 1-2 years         NaN         NaN          NaN  \n",
      "4                 > 5 years         NaN         NaN          NaN  \n",
      "\n",
      "[5 rows x 66 columns]\n",
      "PPI                         0     1\n",
      "Full_Part_Time_Empl_Ind            \n",
      "F                        6884  9424\n",
      "P                          38    37\n"
     ]
    },
    {
     "data": {
      "text/plain": [
       "<AxesSubplot:xlabel='Full_Part_Time_Empl_Ind'>"
      ]
     },
     "execution_count": 32,
     "metadata": {},
     "output_type": "execute_result"
    },
    {
     "data": {
      "image/png": "[encoded data removed]",
      "text/plain": [
       "<Figure size 432x288 with 1 Axes>"
      ]
     },
     "metadata": {
      "needs_background": "light"
     },
     "output_type": "display_data"
    }
   ],
   "source": [
    "LoanData=pd.DataFrame(data=df)\n",
    "print(LoanData.head())\n",
    "CrosstabResult=pd.crosstab(index=LoanData['Full_Part_Time_Empl_Ind'],columns=LoanData['PPI'])\n",
    "print(CrosstabResult)\n",
    " \n",
    "%matplotlib inline \n",
    "CrosstabResult.plot.bar()"
   ]
  },
  {
   "cell_type": "code",
   "execution_count": 33,
   "id": "fa56f090",
   "metadata": {},
   "outputs": [
    {
     "name": "stdout",
     "output_type": "stream",
     "text": [
      "   Ref  Credit_Score Final_Grade  Term  Net_Advance   APR  Loan_Type  Mosaic  \\\n",
      "0    1           918           A    36       3000.0  14.4  UnSecured      46   \n",
      "1    3           903           A   120      21000.0   7.9  secured        16   \n",
      "2    4          1060           X    78       7200.0   7.9  secured        17   \n",
      "3    6           839           B    60       8000.0  16.9  UnSecured      47   \n",
      "4    7          1057           X    60       7650.0   7.4  UnSecured      55   \n",
      "\n",
      "   Mosaic_Class  Time_at_Address  ... PPI_SINGLE PPI_JOINT  PPI_LCI  \\\n",
      "0             8              132  ...          0         0        0   \n",
      "1             3              288  ...          0         0        1   \n",
      "2             3              276  ...          0         1        0   \n",
      "3             8               48  ...          0         0        1   \n",
      "4            10              156  ...          1         0        0   \n",
      "\n",
      "  Age Bucket Credit Score Bucket  Time at Address Bucket  \\\n",
      "0      46-60            700-1000               2-3 years   \n",
      "1      46-60            700-1000               > 5 years   \n",
      "2      46-60           1000-1300               > 5 years   \n",
      "3      26-35            700-1000                 <1 year   \n",
      "4      46-60           1000-1300               2-3 years   \n",
      "\n",
      "  Time in Employment Bucket Unnamed: 63 Unnamed: 64  Unnamed: 65  \n",
      "0                 > 5 years         NaN         NaN          NaN  \n",
      "1                   <1 year         NaN         NaN          NaN  \n",
      "2                 2-3 years         NaN         NaN          NaN  \n",
      "3                 1-2 years         NaN         NaN          NaN  \n",
      "4                 > 5 years         NaN         NaN          NaN  \n",
      "\n",
      "[5 rows x 66 columns]\n",
      "PPI                      0     1\n",
      "Number_of_Dependants            \n",
      "0                     3620  5462\n",
      "1                     1453  1910\n",
      "2                     1197  1279\n",
      "3                      481   578\n",
      "4                      141   170\n",
      "5                       22    48\n",
      "6                        8    10\n",
      "7                        0     3\n",
      "30                       0     1\n"
     ]
    },
    {
     "data": {
      "text/plain": [
       "<AxesSubplot:xlabel='Number_of_Dependants'>"
      ]
     },
     "execution_count": 33,
     "metadata": {},
     "output_type": "execute_result"
    },
    {
     "data": {
      "image/png": "[encoded data removed]",
      "text/plain": [
       "<Figure size 432x288 with 1 Axes>"
      ]
     },
     "metadata": {
      "needs_background": "light"
     },
     "output_type": "display_data"
    }
   ],
   "source": [
    "LoanData=pd.DataFrame(data=df)\n",
    "print(LoanData.head())\n",
    "CrosstabResult=pd.crosstab(index=LoanData['Number_of_Dependants'],columns=LoanData['PPI'])\n",
    "print(CrosstabResult)\n",
    " \n",
    "%matplotlib inline \n",
    "CrosstabResult.plot.bar()"
   ]
  },
  {
   "cell_type": "code",
   "execution_count": 34,
   "id": "6c068568",
   "metadata": {},
   "outputs": [
    {
     "name": "stdout",
     "output_type": "stream",
     "text": [
      "   Ref  Credit_Score Final_Grade  Term  Net_Advance   APR  Loan_Type  Mosaic  \\\n",
      "0    1           918           A    36       3000.0  14.4  UnSecured      46   \n",
      "1    3           903           A   120      21000.0   7.9  secured        16   \n",
      "2    4          1060           X    78       7200.0   7.9  secured        17   \n",
      "3    6           839           B    60       8000.0  16.9  UnSecured      47   \n",
      "4    7          1057           X    60       7650.0   7.4  UnSecured      55   \n",
      "\n",
      "   Mosaic_Class  Time_at_Address  ... PPI_SINGLE PPI_JOINT  PPI_LCI  \\\n",
      "0             8              132  ...          0         0        0   \n",
      "1             3              288  ...          0         0        1   \n",
      "2             3              276  ...          0         1        0   \n",
      "3             8               48  ...          0         0        1   \n",
      "4            10              156  ...          1         0        0   \n",
      "\n",
      "  Age Bucket Credit Score Bucket  Time at Address Bucket  \\\n",
      "0      46-60            700-1000               2-3 years   \n",
      "1      46-60            700-1000               > 5 years   \n",
      "2      46-60           1000-1300               > 5 years   \n",
      "3      26-35            700-1000                 <1 year   \n",
      "4      46-60           1000-1300               2-3 years   \n",
      "\n",
      "  Time in Employment Bucket Unnamed: 63 Unnamed: 64  Unnamed: 65  \n",
      "0                 > 5 years         NaN         NaN          NaN  \n",
      "1                   <1 year         NaN         NaN          NaN  \n",
      "2                 2-3 years         NaN         NaN          NaN  \n",
      "3                 1-2 years         NaN         NaN          NaN  \n",
      "4                 > 5 years         NaN         NaN          NaN  \n",
      "\n",
      "[5 rows x 66 columns]\n",
      "PPI              0     1\n",
      "Mosaic_Class            \n",
      "1              936   542\n",
      "2             1107  1106\n",
      "3              830   908\n",
      "4             1242  1892\n",
      "5              214   339\n",
      "6              260   606\n",
      "7              557  1225\n",
      "8             1034  1889\n",
      "9              130   224\n",
      "10             320   400\n",
      "11             279   309\n",
      "99              13    21\n"
     ]
    },
    {
     "data": {
      "text/plain": [
       "<AxesSubplot:xlabel='Mosaic_Class'>"
      ]
     },
     "execution_count": 34,
     "metadata": {},
     "output_type": "execute_result"
    },
    {
     "data": {
      "image/png": "[encoded data removed]",
      "text/plain": [
       "<Figure size 432x288 with 1 Axes>"
      ]
     },
     "metadata": {
      "needs_background": "light"
     },
     "output_type": "display_data"
    }
   ],
   "source": [
    "LoanData=pd.DataFrame(data=df)\n",
    "print(LoanData.head())\n",
    "CrosstabResult=pd.crosstab(index=LoanData['Mosaic_Class'],columns=LoanData['PPI'])\n",
    "print(CrosstabResult)\n",
    " \n",
    "%matplotlib inline \n",
    "CrosstabResult.plot.bar()"
   ]
  },
  {
   "cell_type": "code",
   "execution_count": 35,
   "id": "443dbfe7",
   "metadata": {},
   "outputs": [
    {
     "name": "stdout",
     "output_type": "stream",
     "text": [
      "   Ref  Credit_Score Final_Grade  Term  Net_Advance   APR  Loan_Type  Mosaic  \\\n",
      "0    1           918           A    36       3000.0  14.4  UnSecured      46   \n",
      "1    3           903           A   120      21000.0   7.9  secured        16   \n",
      "2    4          1060           X    78       7200.0   7.9  secured        17   \n",
      "3    6           839           B    60       8000.0  16.9  UnSecured      47   \n",
      "4    7          1057           X    60       7650.0   7.4  UnSecured      55   \n",
      "\n",
      "   Mosaic_Class  Time_at_Address  ... PPI_SINGLE PPI_JOINT  PPI_LCI  \\\n",
      "0             8              132  ...          0         0        0   \n",
      "1             3              288  ...          0         0        1   \n",
      "2             3              276  ...          0         1        0   \n",
      "3             8               48  ...          0         0        1   \n",
      "4            10              156  ...          1         0        0   \n",
      "\n",
      "  Age Bucket Credit Score Bucket  Time at Address Bucket  \\\n",
      "0      46-60            700-1000               2-3 years   \n",
      "1      46-60            700-1000               > 5 years   \n",
      "2      46-60           1000-1300               > 5 years   \n",
      "3      26-35            700-1000                 <1 year   \n",
      "4      46-60           1000-1300               2-3 years   \n",
      "\n",
      "  Time in Employment Bucket Unnamed: 63 Unnamed: 64  Unnamed: 65  \n",
      "0                 > 5 years         NaN         NaN          NaN  \n",
      "1                   <1 year         NaN         NaN          NaN  \n",
      "2                 2-3 years         NaN         NaN          NaN  \n",
      "3                 1-2 years         NaN         NaN          NaN  \n",
      "4                 > 5 years         NaN         NaN          NaN  \n",
      "\n",
      "[5 rows x 66 columns]\n",
      "PPI                     0     1\n",
      "Telephone_Indicator            \n",
      "N                     476   666\n",
      "Y                    6446  8795\n"
     ]
    },
    {
     "data": {
      "text/plain": [
       "<AxesSubplot:xlabel='Telephone_Indicator'>"
      ]
     },
     "execution_count": 35,
     "metadata": {},
     "output_type": "execute_result"
    },
    {
     "data": {
      "image/png": "[encoded data removed]",
      "text/plain": [
       "<Figure size 432x288 with 1 Axes>"
      ]
     },
     "metadata": {
      "needs_background": "light"
     },
     "output_type": "display_data"
    }
   ],
   "source": [
    "LoanData=pd.DataFrame(data=df)\n",
    "print(LoanData.head())\n",
    "CrosstabResult=pd.crosstab(index=LoanData['Telephone_Indicator'],columns=LoanData['PPI'])\n",
    "print(CrosstabResult)\n",
    " \n",
    "%matplotlib inline \n",
    "CrosstabResult.plot.bar()"
   ]
  },
  {
   "cell_type": "code",
   "execution_count": 36,
   "id": "0fb3ab18",
   "metadata": {
    "scrolled": true
   },
   "outputs": [
    {
     "name": "stdout",
     "output_type": "stream",
     "text": [
      "   Ref  Credit_Score Final_Grade  Term  Net_Advance   APR  Loan_Type  Mosaic  \\\n",
      "0    1           918           A    36       3000.0  14.4  UnSecured      46   \n",
      "1    3           903           A   120      21000.0   7.9  secured        16   \n",
      "2    4          1060           X    78       7200.0   7.9  secured        17   \n",
      "3    6           839           B    60       8000.0  16.9  UnSecured      47   \n",
      "4    7          1057           X    60       7650.0   7.4  UnSecured      55   \n",
      "\n",
      "   Mosaic_Class  Time_at_Address  ... PPI_SINGLE PPI_JOINT  PPI_LCI  \\\n",
      "0             8              132  ...          0         0        0   \n",
      "1             3              288  ...          0         0        1   \n",
      "2             3              276  ...          0         1        0   \n",
      "3             8               48  ...          0         0        1   \n",
      "4            10              156  ...          1         0        0   \n",
      "\n",
      "  Age Bucket Credit Score Bucket  Time at Address Bucket  \\\n",
      "0      46-60            700-1000               2-3 years   \n",
      "1      46-60            700-1000               > 5 years   \n",
      "2      46-60           1000-1300               > 5 years   \n",
      "3      26-35            700-1000                 <1 year   \n",
      "4      46-60           1000-1300               2-3 years   \n",
      "\n",
      "  Time in Employment Bucket Unnamed: 63 Unnamed: 64  Unnamed: 65  \n",
      "0                 > 5 years         NaN         NaN          NaN  \n",
      "1                   <1 year         NaN         NaN          NaN  \n",
      "2                 2-3 years         NaN         NaN          NaN  \n",
      "3                 1-2 years         NaN         NaN          NaN  \n",
      "4                 > 5 years         NaN         NaN          NaN  \n",
      "\n",
      "[5 rows x 66 columns]\n",
      "PPI                  0     1\n",
      "Worst_History_CT            \n",
      "0                 2869  4045\n",
      "1                  103   193\n",
      "2                   17    48\n",
      "3                   12    18\n",
      "4                  595  1217\n",
      "5                 3316  3931\n",
      "6                   10     9\n"
     ]
    },
    {
     "data": {
      "text/plain": [
       "<AxesSubplot:xlabel='Worst_History_CT'>"
      ]
     },
     "execution_count": 36,
     "metadata": {},
     "output_type": "execute_result"
    },
    {
     "data": {
      "image/png": "[encoded data removed]",
      "text/plain": [
       "<Figure size 432x288 with 1 Axes>"
      ]
     },
     "metadata": {
      "needs_background": "light"
     },
     "output_type": "display_data"
    }
   ],
   "source": [
    "LoanData=pd.DataFrame(data=df)\n",
    "print(LoanData.head())\n",
    "CrosstabResult=pd.crosstab(index=LoanData['Worst_History_CT'],columns=LoanData['PPI'])\n",
    "print(CrosstabResult)\n",
    " \n",
    "%matplotlib inline \n",
    "CrosstabResult.plot.bar()"
   ]
  },
  {
   "cell_type": "code",
   "execution_count": 39,
   "id": "219e6f85",
   "metadata": {},
   "outputs": [
    {
     "data": {
      "text/html": [
       "<div>\n",
       "<style scoped>\n",
       "    .dataframe tbody tr th:only-of-type {\n",
       "        vertical-align: middle;\n",
       "    }\n",
       "\n",
       "    .dataframe tbody tr th {\n",
       "        vertical-align: top;\n",
       "    }\n",
       "\n",
       "    .dataframe thead th {\n",
       "        text-align: right;\n",
       "    }\n",
       "</style>\n",
       "<table border=\"1\" class=\"dataframe\">\n",
       "  <thead>\n",
       "    <tr style=\"text-align: right;\">\n",
       "      <th></th>\n",
       "      <th>Ref</th>\n",
       "      <th>Credit_Score</th>\n",
       "      <th>Final_Grade</th>\n",
       "      <th>Term</th>\n",
       "      <th>Net_Advance</th>\n",
       "      <th>APR</th>\n",
       "      <th>Loan_Type</th>\n",
       "      <th>Mosaic</th>\n",
       "      <th>Mosaic_Class</th>\n",
       "      <th>Time_at_Address</th>\n",
       "      <th>...</th>\n",
       "      <th>PPI_SINGLE</th>\n",
       "      <th>PPI_JOINT</th>\n",
       "      <th>PPI_LCI</th>\n",
       "      <th>Age Bucket</th>\n",
       "      <th>Credit Score Bucket</th>\n",
       "      <th>Time at Address Bucket</th>\n",
       "      <th>Time in Employment Bucket</th>\n",
       "      <th>Term Bucket</th>\n",
       "      <th>Unnamed: 64</th>\n",
       "      <th>Unnamed: 65</th>\n",
       "    </tr>\n",
       "  </thead>\n",
       "  <tbody>\n",
       "    <tr>\n",
       "      <th>0</th>\n",
       "      <td>1</td>\n",
       "      <td>918</td>\n",
       "      <td>A</td>\n",
       "      <td>36</td>\n",
       "      <td>3000.0</td>\n",
       "      <td>14.4</td>\n",
       "      <td>UnSecured</td>\n",
       "      <td>46</td>\n",
       "      <td>8</td>\n",
       "      <td>132</td>\n",
       "      <td>...</td>\n",
       "      <td>0</td>\n",
       "      <td>0</td>\n",
       "      <td>0</td>\n",
       "      <td>46-60</td>\n",
       "      <td>700-1000</td>\n",
       "      <td>2-3 years</td>\n",
       "      <td>&gt; 5 years</td>\n",
       "      <td>2-3 years</td>\n",
       "      <td>NaN</td>\n",
       "      <td>NaN</td>\n",
       "    </tr>\n",
       "    <tr>\n",
       "      <th>1</th>\n",
       "      <td>3</td>\n",
       "      <td>903</td>\n",
       "      <td>A</td>\n",
       "      <td>120</td>\n",
       "      <td>21000.0</td>\n",
       "      <td>7.9</td>\n",
       "      <td>secured</td>\n",
       "      <td>16</td>\n",
       "      <td>3</td>\n",
       "      <td>288</td>\n",
       "      <td>...</td>\n",
       "      <td>0</td>\n",
       "      <td>0</td>\n",
       "      <td>1</td>\n",
       "      <td>46-60</td>\n",
       "      <td>700-1000</td>\n",
       "      <td>&gt; 5 years</td>\n",
       "      <td>&lt;1 year</td>\n",
       "      <td>&gt; 5 years</td>\n",
       "      <td>NaN</td>\n",
       "      <td>NaN</td>\n",
       "    </tr>\n",
       "    <tr>\n",
       "      <th>2</th>\n",
       "      <td>4</td>\n",
       "      <td>1060</td>\n",
       "      <td>X</td>\n",
       "      <td>78</td>\n",
       "      <td>7200.0</td>\n",
       "      <td>7.9</td>\n",
       "      <td>secured</td>\n",
       "      <td>17</td>\n",
       "      <td>3</td>\n",
       "      <td>276</td>\n",
       "      <td>...</td>\n",
       "      <td>0</td>\n",
       "      <td>1</td>\n",
       "      <td>0</td>\n",
       "      <td>46-60</td>\n",
       "      <td>1000-1300</td>\n",
       "      <td>&gt; 5 years</td>\n",
       "      <td>2-3 years</td>\n",
       "      <td>&gt; 5 years</td>\n",
       "      <td>NaN</td>\n",
       "      <td>NaN</td>\n",
       "    </tr>\n",
       "    <tr>\n",
       "      <th>3</th>\n",
       "      <td>6</td>\n",
       "      <td>839</td>\n",
       "      <td>B</td>\n",
       "      <td>60</td>\n",
       "      <td>8000.0</td>\n",
       "      <td>16.9</td>\n",
       "      <td>UnSecured</td>\n",
       "      <td>47</td>\n",
       "      <td>8</td>\n",
       "      <td>48</td>\n",
       "      <td>...</td>\n",
       "      <td>0</td>\n",
       "      <td>0</td>\n",
       "      <td>1</td>\n",
       "      <td>26-35</td>\n",
       "      <td>700-1000</td>\n",
       "      <td>&lt;1 year</td>\n",
       "      <td>1-2 years</td>\n",
       "      <td>4-5 years</td>\n",
       "      <td>NaN</td>\n",
       "      <td>NaN</td>\n",
       "    </tr>\n",
       "    <tr>\n",
       "      <th>4</th>\n",
       "      <td>7</td>\n",
       "      <td>1057</td>\n",
       "      <td>X</td>\n",
       "      <td>60</td>\n",
       "      <td>7650.0</td>\n",
       "      <td>7.4</td>\n",
       "      <td>UnSecured</td>\n",
       "      <td>55</td>\n",
       "      <td>10</td>\n",
       "      <td>156</td>\n",
       "      <td>...</td>\n",
       "      <td>1</td>\n",
       "      <td>0</td>\n",
       "      <td>0</td>\n",
       "      <td>46-60</td>\n",
       "      <td>1000-1300</td>\n",
       "      <td>2-3 years</td>\n",
       "      <td>&gt; 5 years</td>\n",
       "      <td>4-5 years</td>\n",
       "      <td>NaN</td>\n",
       "      <td>NaN</td>\n",
       "    </tr>\n",
       "  </tbody>\n",
       "</table>\n",
       "<p>5 rows × 66 columns</p>\n",
       "</div>"
      ],
      "text/plain": [
       "   Ref  Credit_Score Final_Grade  Term  Net_Advance   APR  Loan_Type  Mosaic  \\\n",
       "0    1           918           A    36       3000.0  14.4  UnSecured      46   \n",
       "1    3           903           A   120      21000.0   7.9  secured        16   \n",
       "2    4          1060           X    78       7200.0   7.9  secured        17   \n",
       "3    6           839           B    60       8000.0  16.9  UnSecured      47   \n",
       "4    7          1057           X    60       7650.0   7.4  UnSecured      55   \n",
       "\n",
       "   Mosaic_Class  Time_at_Address  ... PPI_SINGLE PPI_JOINT  PPI_LCI  \\\n",
       "0             8              132  ...          0         0        0   \n",
       "1             3              288  ...          0         0        1   \n",
       "2             3              276  ...          0         1        0   \n",
       "3             8               48  ...          0         0        1   \n",
       "4            10              156  ...          1         0        0   \n",
       "\n",
       "  Age Bucket Credit Score Bucket  Time at Address Bucket  \\\n",
       "0      46-60            700-1000               2-3 years   \n",
       "1      46-60            700-1000               > 5 years   \n",
       "2      46-60           1000-1300               > 5 years   \n",
       "3      26-35            700-1000                 <1 year   \n",
       "4      46-60           1000-1300               2-3 years   \n",
       "\n",
       "  Time in Employment Bucket Term Bucket Unnamed: 64  Unnamed: 65  \n",
       "0                 > 5 years   2-3 years         NaN          NaN  \n",
       "1                   <1 year   > 5 years         NaN          NaN  \n",
       "2                 2-3 years   > 5 years         NaN          NaN  \n",
       "3                 1-2 years   4-5 years         NaN          NaN  \n",
       "4                 > 5 years   4-5 years         NaN          NaN  \n",
       "\n",
       "[5 rows x 66 columns]"
      ]
     },
     "execution_count": 39,
     "metadata": {},
     "output_type": "execute_result"
    }
   ],
   "source": [
    "df= pd.read_excel('C:/Users/Sonali.Sengupta/Desktop/Mortgage Insurance Cross Sell - Dataset & Case Description/Mortgage Insurance Cross Sell - Dataset & Case Description/Dataset - v1.xlsx') \n",
    "df.shape\n",
    "df.head()\n"
   ]
  },
  {
   "cell_type": "code",
   "execution_count": 40,
   "id": "3d511e8c",
   "metadata": {},
   "outputs": [
    {
     "name": "stdout",
     "output_type": "stream",
     "text": [
      "   Ref  Credit_Score Final_Grade  Term  Net_Advance   APR  Loan_Type  Mosaic  \\\n",
      "0    1           918           A    36       3000.0  14.4  UnSecured      46   \n",
      "1    3           903           A   120      21000.0   7.9  secured        16   \n",
      "2    4          1060           X    78       7200.0   7.9  secured        17   \n",
      "3    6           839           B    60       8000.0  16.9  UnSecured      47   \n",
      "4    7          1057           X    60       7650.0   7.4  UnSecured      55   \n",
      "\n",
      "   Mosaic_Class  Time_at_Address  ... PPI_SINGLE PPI_JOINT  PPI_LCI  \\\n",
      "0             8              132  ...          0         0        0   \n",
      "1             3              288  ...          0         0        1   \n",
      "2             3              276  ...          0         1        0   \n",
      "3             8               48  ...          0         0        1   \n",
      "4            10              156  ...          1         0        0   \n",
      "\n",
      "  Age Bucket Credit Score Bucket  Time at Address Bucket  \\\n",
      "0      46-60            700-1000               2-3 years   \n",
      "1      46-60            700-1000               > 5 years   \n",
      "2      46-60           1000-1300               > 5 years   \n",
      "3      26-35            700-1000                 <1 year   \n",
      "4      46-60           1000-1300               2-3 years   \n",
      "\n",
      "  Time in Employment Bucket Term Bucket Unnamed: 64  Unnamed: 65  \n",
      "0                 > 5 years   2-3 years         NaN          NaN  \n",
      "1                   <1 year   > 5 years         NaN          NaN  \n",
      "2                 2-3 years   > 5 years         NaN          NaN  \n",
      "3                 1-2 years   4-5 years         NaN          NaN  \n",
      "4                 > 5 years   4-5 years         NaN          NaN  \n",
      "\n",
      "[5 rows x 66 columns]\n",
      "PPI             0     1\n",
      "Term Bucket            \n",
      "1-2 years     533   489\n",
      "2-3 years    1006  1082\n",
      "3-4 years    1045  1010\n",
      "4-5 years    3440  5185\n",
      "<1 year       189   116\n",
      "> 5 years     709  1579\n"
     ]
    },
    {
     "data": {
      "text/plain": [
       "<AxesSubplot:xlabel='Term Bucket'>"
      ]
     },
     "execution_count": 40,
     "metadata": {},
     "output_type": "execute_result"
    },
    {
     "data": {
      "image/png": "[encoded data removed]",
      "text/plain": [
       "<Figure size 432x288 with 1 Axes>"
      ]
     },
     "metadata": {
      "needs_background": "light"
     },
     "output_type": "display_data"
    }
   ],
   "source": [
    "LoanData=pd.DataFrame(data=df)\n",
    "print(LoanData.head())\n",
    "CrosstabResult=pd.crosstab(index=LoanData['Term Bucket'],columns=LoanData['PPI'])\n",
    "print(CrosstabResult)\n",
    " \n",
    "%matplotlib inline \n",
    "CrosstabResult.plot.bar()"
   ]
  },
  {
   "cell_type": "code",
   "execution_count": 41,
   "id": "35a32bb3",
   "metadata": {
    "scrolled": false
   },
   "outputs": [
    {
     "name": "stdout",
     "output_type": "stream",
     "text": [
      "   Ref  Credit_Score Final_Grade  Term  Net_Advance   APR  Loan_Type  Mosaic  \\\n",
      "0    1           918           A    36       3000.0  14.4  UnSecured      46   \n",
      "1    3           903           A   120      21000.0   7.9  secured        16   \n",
      "2    4          1060           X    78       7200.0   7.9  secured        17   \n",
      "3    6           839           B    60       8000.0  16.9  UnSecured      47   \n",
      "4    7          1057           X    60       7650.0   7.4  UnSecured      55   \n",
      "\n",
      "   Mosaic_Class  Time_at_Address  ... PPI_SINGLE PPI_JOINT  PPI_LCI  \\\n",
      "0             8              132  ...          0         0        0   \n",
      "1             3              288  ...          0         0        1   \n",
      "2             3              276  ...          0         1        0   \n",
      "3             8               48  ...          0         0        1   \n",
      "4            10              156  ...          1         0        0   \n",
      "\n",
      "  Age Bucket Credit Score Bucket  Time at Address Bucket  \\\n",
      "0      46-60            700-1000               2-3 years   \n",
      "1      46-60            700-1000               > 5 years   \n",
      "2      46-60           1000-1300               > 5 years   \n",
      "3      26-35            700-1000                 <1 year   \n",
      "4      46-60           1000-1300               2-3 years   \n",
      "\n",
      "  Time in Employment Bucket Term Bucket APR Bucket  Unnamed: 65  \n",
      "0                 > 5 years   2-3 years      10-15          NaN  \n",
      "1                   <1 year   > 5 years       5-10          NaN  \n",
      "2                 2-3 years   > 5 years       5-10          NaN  \n",
      "3                 1-2 years   4-5 years      15-20          NaN  \n",
      "4                 > 5 years   4-5 years       5-10          NaN  \n",
      "\n",
      "[5 rows x 66 columns]\n",
      "PPI            0     1\n",
      "APR Bucket            \n",
      "0-5            3     0\n",
      "10-15       1357  1786\n",
      "15-20       1467  1878\n",
      "20-25        818  1083\n",
      "25-40       1190  2038\n",
      "40+          224   402\n",
      "5-10        1863  2274\n"
     ]
    },
    {
     "data": {
      "text/plain": [
       "<AxesSubplot:xlabel='APR Bucket'>"
      ]
     },
     "execution_count": 41,
     "metadata": {},
     "output_type": "execute_result"
    },
    {
     "data": {
      "image/png": "[encoded data removed]",
      "text/plain": [
       "<Figure size 432x288 with 1 Axes>"
      ]
     },
     "metadata": {
      "needs_background": "light"
     },
     "output_type": "display_data"
    }
   ],
   "source": [
    "df= pd.read_excel('C:/Users/Sonali.Sengupta/Desktop/Mortgage Insurance Cross Sell - Dataset & Case Description/Mortgage Insurance Cross Sell - Dataset & Case Description/Dataset - v1.xlsx') \n",
    "df.shape\n",
    "df.head()\n",
    "\n",
    "LoanData=pd.DataFrame(data=df)\n",
    "print(LoanData.head())\n",
    "CrosstabResult=pd.crosstab(index=LoanData['APR Bucket'],columns=LoanData['PPI'])\n",
    "print(CrosstabResult)\n",
    " \n",
    "%matplotlib inline \n",
    "CrosstabResult.plot.bar()\n"
   ]
  },
  {
   "cell_type": "code",
   "execution_count": 47,
   "id": "d60dc60c",
   "metadata": {},
   "outputs": [
    {
     "name": "stdout",
     "output_type": "stream",
     "text": [
      "   Ref  Credit_Score Final_Grade  Term  Net_Advance   APR  Loan_Type  Mosaic  \\\n",
      "0    1           918           A    36       3000.0  14.4  UnSecured      46   \n",
      "1    3           903           A   120      21000.0   7.9  secured        16   \n",
      "2    4          1060           X    78       7200.0   7.9  secured        17   \n",
      "3    6           839           B    60       8000.0  16.9  UnSecured      47   \n",
      "4    7          1057           X    60       7650.0   7.4  UnSecured      55   \n",
      "\n",
      "   Mosaic_Class  Time_at_Address  ... PPI_SINGLE PPI_JOINT  PPI_LCI  \\\n",
      "0             8              132  ...          0         0        0   \n",
      "1             3              288  ...          0         0        1   \n",
      "2             3              276  ...          0         1        0   \n",
      "3             8               48  ...          0         0        1   \n",
      "4            10              156  ...          1         0        0   \n",
      "\n",
      "  Age Bucket Credit Score Bucket  Time at Address Bucket  \\\n",
      "0      46-60            700-1000               2-3 years   \n",
      "1      46-60            700-1000               > 5 years   \n",
      "2      46-60           1000-1300               > 5 years   \n",
      "3      26-35            700-1000                 <1 year   \n",
      "4      46-60           1000-1300               2-3 years   \n",
      "\n",
      "  Time in Employment Bucket Term Bucket APR Bucket  \\\n",
      "0                 > 5 years   2-3 years      10-15   \n",
      "1                   <1 year   > 5 years       5-10   \n",
      "2                 2-3 years   > 5 years       5-10   \n",
      "3                 1-2 years   4-5 years      15-20   \n",
      "4                 > 5 years   4-5 years       5-10   \n",
      "\n",
      "   Total_outstanding_balance__mortg Bucket  \n",
      "0                                    0-200  \n",
      "1                                    0-200  \n",
      "2                                    0-200  \n",
      "3                                    0-200  \n",
      "4                                    0-200  \n",
      "\n",
      "[5 rows x 66 columns]\n",
      "PPI                                         0     1\n",
      "Total_outstanding_balance__mortg Bucket            \n",
      "0-200                                    6417  9148\n",
      "200-400                                   427   278\n",
      "400-600                                    56    25\n",
      "600-800                                    15     9\n",
      "800-1000                                    7     1\n"
     ]
    },
    {
     "data": {
      "text/plain": [
       "<AxesSubplot:xlabel='Total_outstanding_balance__mortg Bucket'>"
      ]
     },
     "execution_count": 47,
     "metadata": {},
     "output_type": "execute_result"
    },
    {
     "data": {
      "image/png": "[encoded data removed]",
      "text/plain": [
       "<Figure size 432x288 with 1 Axes>"
      ]
     },
     "metadata": {
      "needs_background": "light"
     },
     "output_type": "display_data"
    }
   ],
   "source": [
    "df= pd.read_excel('C:/Users/Sonali.Sengupta/Desktop/Mortgage Insurance Cross Sell - Dataset & Case Description/Mortgage Insurance Cross Sell - Dataset & Case Description/Dataset - v1.xlsx') \n",
    "df.head()\n",
    "\n",
    "LoanData=pd.DataFrame(data=df)\n",
    "print(LoanData.head())\n",
    "CrosstabResult=pd.crosstab(index=LoanData['Total_outstanding_balance__mortg Bucket'],columns=LoanData['PPI'])\n",
    "print(CrosstabResult)\n",
    " \n",
    "%matplotlib inline \n",
    "CrosstabResult.plot.bar()\n"
   ]
  },
  {
   "cell_type": "code",
   "execution_count": 176,
   "id": "acc99a6b",
   "metadata": {},
   "outputs": [
    {
     "name": "stderr",
     "output_type": "stream",
     "text": [
      "<ipython-input-176-541efe0d2343>:4: FutureWarning: The default value of regex will change from True to False in a future version.\n",
      "  df['Age Bucket'] = df['Age Bucket'].str.replace(r'[^\\d.]+', '')\n",
      "<ipython-input-176-541efe0d2343>:5: FutureWarning: The default value of regex will change from True to False in a future version.\n",
      "  df['Term Bucket'] = df['Term Bucket'].str.replace(r'[^\\d.]+', '')\n",
      "<ipython-input-176-541efe0d2343>:6: FutureWarning: The default value of regex will change from True to False in a future version.\n",
      "  df['APR Bucket'] = df['APR Bucket'].str.replace(r'[^\\d.]+', '')\n",
      "<ipython-input-176-541efe0d2343>:7: FutureWarning: The default value of regex will change from True to False in a future version.\n",
      "  df['Total_outstanding_balance__mortg Bucket'] = df['Total_outstanding_balance__mortg Bucket'].str.replace(r'[^\\d.]+', '')\n"
     ]
    }
   ],
   "source": [
    "df= pd.read_excel('C:/Users/Sonali.Sengupta/Desktop/Mortgage Insurance Cross Sell - Dataset & Case Description/Mortgage Insurance Cross Sell - Dataset & Case Description/Dataset - v1.xlsx').drop(columns=['code', 'prdt_desc','category'])\n",
    "\n",
    "\n",
    "\n",
    "\n",
    "Features= ['Age','Final_Grade1','Term','APR','Number_of_Dependants','Total_outstanding_balance__mortg Bucket' ,'Worst_status_L6m', 'Total___of_accounts']\n",
    "\n",
    "df = df[['Age','Final_Grade1','Term','APR','Number_of_Dependants','Total_outstanding_balance__mortg Bucket' ,'Worst_status_L6m', 'Total___of_accounts','PPI']]\n"
   ]
  },
  {
   "cell_type": "code",
   "execution_count": 178,
   "id": "ae567cfd",
   "metadata": {},
   "outputs": [
    {
     "data": {
      "text/html": [
       "<div>\n",
       "<style scoped>\n",
       "    .dataframe tbody tr th:only-of-type {\n",
       "        vertical-align: middle;\n",
       "    }\n",
       "\n",
       "    .dataframe tbody tr th {\n",
       "        vertical-align: top;\n",
       "    }\n",
       "\n",
       "    .dataframe thead th {\n",
       "        text-align: right;\n",
       "    }\n",
       "</style>\n",
       "<table border=\"1\" class=\"dataframe\">\n",
       "  <thead>\n",
       "    <tr style=\"text-align: right;\">\n",
       "      <th></th>\n",
       "      <th>Age Bucket</th>\n",
       "      <th>Final_Grade1</th>\n",
       "      <th>Term Bucket</th>\n",
       "      <th>APR Bucket</th>\n",
       "      <th>Number_of_Dependants</th>\n",
       "      <th>Total_outstanding_balance__mortg Bucket</th>\n",
       "      <th>Worst_status_L6m</th>\n",
       "      <th>Total___of_accounts</th>\n",
       "      <th>PPI</th>\n",
       "    </tr>\n",
       "  </thead>\n",
       "  <tbody>\n",
       "    <tr>\n",
       "      <th>0</th>\n",
       "      <td>4660</td>\n",
       "      <td>1</td>\n",
       "      <td>23</td>\n",
       "      <td>1015</td>\n",
       "      <td>0</td>\n",
       "      <td>200</td>\n",
       "      <td>0</td>\n",
       "      <td>6</td>\n",
       "      <td>0</td>\n",
       "    </tr>\n",
       "    <tr>\n",
       "      <th>1</th>\n",
       "      <td>4660</td>\n",
       "      <td>1</td>\n",
       "      <td>5</td>\n",
       "      <td>510</td>\n",
       "      <td>0</td>\n",
       "      <td>200</td>\n",
       "      <td>1</td>\n",
       "      <td>8</td>\n",
       "      <td>1</td>\n",
       "    </tr>\n",
       "    <tr>\n",
       "      <th>2</th>\n",
       "      <td>4660</td>\n",
       "      <td>10</td>\n",
       "      <td>5</td>\n",
       "      <td>510</td>\n",
       "      <td>0</td>\n",
       "      <td>200</td>\n",
       "      <td>0</td>\n",
       "      <td>7</td>\n",
       "      <td>1</td>\n",
       "    </tr>\n",
       "    <tr>\n",
       "      <th>3</th>\n",
       "      <td>2635</td>\n",
       "      <td>2</td>\n",
       "      <td>45</td>\n",
       "      <td>1520</td>\n",
       "      <td>0</td>\n",
       "      <td>200</td>\n",
       "      <td>1</td>\n",
       "      <td>9</td>\n",
       "      <td>1</td>\n",
       "    </tr>\n",
       "    <tr>\n",
       "      <th>4</th>\n",
       "      <td>4660</td>\n",
       "      <td>10</td>\n",
       "      <td>45</td>\n",
       "      <td>510</td>\n",
       "      <td>2</td>\n",
       "      <td>200</td>\n",
       "      <td>0</td>\n",
       "      <td>6</td>\n",
       "      <td>1</td>\n",
       "    </tr>\n",
       "  </tbody>\n",
       "</table>\n",
       "</div>"
      ],
      "text/plain": [
       "   Age Bucket  Final_Grade1  Term Bucket  APR Bucket  Number_of_Dependants  \\\n",
       "0        4660             1           23        1015                     0   \n",
       "1        4660             1            5         510                     0   \n",
       "2        4660            10            5         510                     0   \n",
       "3        2635             2           45        1520                     0   \n",
       "4        4660            10           45         510                     2   \n",
       "\n",
       "   Total_outstanding_balance__mortg Bucket  Worst_status_L6m  \\\n",
       "0                                      200                 0   \n",
       "1                                      200                 1   \n",
       "2                                      200                 0   \n",
       "3                                      200                 1   \n",
       "4                                      200                 0   \n",
       "\n",
       "   Total___of_accounts  PPI  \n",
       "0                    6    0  \n",
       "1                    8    1  \n",
       "2                    7    1  \n",
       "3                    9    1  \n",
       "4                    6    1  "
      ]
     },
     "execution_count": 178,
     "metadata": {},
     "output_type": "execute_result"
    }
   ],
   "source": [
    "df.head()"
   ]
  },
  {
   "cell_type": "code",
   "execution_count": 179,
   "id": "361349bb",
   "metadata": {},
   "outputs": [
    {
     "data": {
      "text/plain": [
       "((11468, 8), (4915, 8))"
      ]
     },
     "execution_count": 179,
     "metadata": {},
     "output_type": "execute_result"
    }
   ],
   "source": [
    "\n",
    "from sklearn.model_selection import train_test_split \n",
    "X_train, X_test, Y_train, Y_test = train_test_split(df[Features],df['PPI'],\n",
    "                                   test_size = 0.3, random_state = 101) \n",
    "X_train.shape,X_test.shape\n"
   ]
  },
  {
   "cell_type": "code",
   "execution_count": 180,
   "id": "cc22fb2d",
   "metadata": {},
   "outputs": [
    {
     "data": {
      "text/plain": [
       "((11468, 8), (4915, 8))"
      ]
     },
     "execution_count": 180,
     "metadata": {},
     "output_type": "execute_result"
    }
   ],
   "source": [
    "\n",
    "from sklearn.model_selection import train_test_split \n",
    "X_train, X_test, Y_train, Y_test = train_test_split(df[Features],df['PPI'],\n",
    "                                   test_size = 0.3, random_state = 101) \n",
    "X_train.shape,X_test.shape\n"
   ]
  },
  {
   "cell_type": "code",
   "execution_count": 183,
   "id": "54d107b8",
   "metadata": {},
   "outputs": [
    {
     "ename": "NameError",
     "evalue": "name 'performance_met' is not defined",
     "output_type": "error",
     "traceback": [
      "\u001b[1;31m---------------------------------------------------------------------------\u001b[0m",
      "\u001b[1;31mNameError\u001b[0m                                 Traceback (most recent call last)",
      "\u001b[1;32m<ipython-input-183-293375bc787f>\u001b[0m in \u001b[0;36m<module>\u001b[1;34m\u001b[0m\n\u001b[0;32m      1\u001b[0m \u001b[0mmodel\u001b[0m \u001b[1;33m=\u001b[0m \u001b[0mLogisticRegression\u001b[0m\u001b[1;33m(\u001b[0m\u001b[1;33m)\u001b[0m\u001b[1;33m\u001b[0m\u001b[1;33m\u001b[0m\u001b[0m\n\u001b[0;32m      2\u001b[0m \u001b[0mmodel\u001b[0m\u001b[1;33m.\u001b[0m\u001b[0mfit\u001b[0m\u001b[1;33m(\u001b[0m\u001b[0mX_train\u001b[0m\u001b[1;33m,\u001b[0m\u001b[0mY_train\u001b[0m\u001b[1;33m)\u001b[0m\u001b[1;33m\u001b[0m\u001b[1;33m\u001b[0m\u001b[0m\n\u001b[1;32m----> 3\u001b[1;33m \u001b[0mperformance_met\u001b[0m\u001b[1;33m(\u001b[0m\u001b[0mmodel\u001b[0m\u001b[1;33m,\u001b[0m\u001b[0mX_train\u001b[0m\u001b[1;33m,\u001b[0m\u001b[0mY_train\u001b[0m\u001b[1;33m,\u001b[0m\u001b[0mX_test\u001b[0m\u001b[1;33m,\u001b[0m\u001b[0mY_test\u001b[0m\u001b[1;33m)\u001b[0m\u001b[1;33m\u001b[0m\u001b[1;33m\u001b[0m\u001b[0m\n\u001b[0m",
      "\u001b[1;31mNameError\u001b[0m: name 'performance_met' is not defined"
     ]
    }
   ],
   "source": [
    "model = LogisticRegression()\n",
    "model.fit(X_train,Y_train) \n",
    "performance_met(model,X_train,Y_train,X_test,Y_test)\n"
   ]
  },
  {
   "cell_type": "code",
   "execution_count": 184,
   "id": "d35c28b1",
   "metadata": {},
   "outputs": [],
   "source": [
    "def performance_met(model,X_train,Y_train,X_test,Y_test):\n",
    "\n",
    "    acc_train=accuracy_score(Y_train, model.predict(X_train))\n",
    "\n",
    "    f1_train=f1_score(Y_train, model.predict(X_train))\n",
    "\n",
    "    acc_test=accuracy_score(Y_test, model.predict(X_test))\n",
    "\n",
    "    f1_test=f1_score(Y_test, model.predict(X_test))\n",
    "\n",
    "    print(\"train score: accuracy:{} f1:{}\".format(acc_train,f1_train))\n",
    "\n",
    "    print(\"test score: accuracy:{} f1:{}\".format(acc_test,f1_test))"
   ]
  },
  {
   "cell_type": "code",
   "execution_count": 185,
   "id": "b62bf926",
   "metadata": {},
   "outputs": [
    {
     "name": "stdout",
     "output_type": "stream",
     "text": [
      "train score: accuracy:0.5886815486571328 f1:0.7328840817713348\n",
      "test score: accuracy:0.5861648016276704 f1:0.7300955414012739\n"
     ]
    }
   ],
   "source": [
    "model = LogisticRegression()\n",
    "model.fit(X_train,Y_train) \n",
    "performance_met(model,X_train,Y_train,X_test,Y_test)\n"
   ]
  },
  {
   "cell_type": "code",
   "execution_count": 187,
   "id": "7685eefe",
   "metadata": {},
   "outputs": [
    {
     "name": "stdout",
     "output_type": "stream",
     "text": [
      "train score: accuracy:0.8709452389257063 f1:0.8861188057863958\n",
      "test score: accuracy:0.5560528992878943 f1:0.6052821997105644\n"
     ]
    }
   ],
   "source": [
    "model_DT=DecisionTreeClassifier(random_state=1) \n",
    "model_DT.fit(X_train,Y_train) \n",
    "performance_met(model_DT,X_train,Y_train,X_test,Y_test)"
   ]
  },
  {
   "cell_type": "code",
   "execution_count": 188,
   "id": "ec4e2bd7",
   "metadata": {},
   "outputs": [
    {
     "name": "stdout",
     "output_type": "stream",
     "text": [
      "train score: accuracy:0.8709452389257063 f1:0.8914000587026709\n",
      "test score: accuracy:0.5837232960325535 f1:0.655323450134771\n"
     ]
    }
   ],
   "source": [
    "Forest= RandomForestClassifier(random_state=1) \n",
    "Forest.fit(X_train,Y_train) \n",
    "performance_met(Forest,X_train,Y_train,X_test,Y_test)"
   ]
  },
  {
   "cell_type": "code",
   "execution_count": 189,
   "id": "2a69c689",
   "metadata": {},
   "outputs": [],
   "source": [
    "df= pd.read_excel('C:/Users/Sonali.Sengupta/Desktop/Mortgage Insurance Cross Sell - Dataset & Case Description/Mortgage Insurance Cross Sell - Dataset & Case Description/Dataset - v1.xlsx').drop(columns=['code', 'prdt_desc','category'])\n",
    "\n",
    "\n",
    "\n",
    "\n",
    "Features= ['Age','Final_Grade1','Term','APR','Number_of_Dependants','Total_outstanding_balance__mortg Bucket' ,'Worst_status_L6m', 'Total___of_accounts']\n",
    "\n",
    "df = df[['Age','Final_Grade1','Term','APR','Number_of_Dependants','Total_outstanding_balance__mortg Bucket' ,'Worst_status_L6m', 'Total___of_accounts','PPI']]\n"
   ]
  },
  {
   "cell_type": "code",
   "execution_count": 190,
   "id": "be1416bd",
   "metadata": {},
   "outputs": [],
   "source": [
    "from sklearn.model_selection import train_test_split \n",
    "X_train, X_test, Y_train, Y_test = train_test_split(df[Features],df['PPI'],\n",
    "                                   test_size = 0.3, random_state = 101) \n",
    "X_train.shape,X_test.shape\n",
    "\n",
    "\n",
    "def performance_met(model,X_train,Y_train,X_test,Y_test):\n",
    "\n",
    "    acc_train=accuracy_score(Y_train, model.predict(X_train))\n",
    "\n",
    "    f1_train=f1_score(Y_train, model.predict(X_train))\n",
    "\n",
    "    acc_test=accuracy_score(Y_test, model.predict(X_test))\n",
    "\n",
    "    f1_test=f1_score(Y_test, model.predict(X_test))\n",
    "\n",
    "    print(\"train score: accuracy:{} f1:{}\".format(acc_train,f1_train))\n",
    "\n",
    "    print(\"test score: accuracy:{} f1:{}\".format(acc_test,f1_test))\n",
    "\n",
    "\n",
    "\n"
   ]
  },
  {
   "cell_type": "code",
   "execution_count": 191,
   "id": "6c581d7f",
   "metadata": {},
   "outputs": [
    {
     "ename": "ValueError",
     "evalue": "could not convert string to float: '0-200'",
     "output_type": "error",
     "traceback": [
      "\u001b[1;31m---------------------------------------------------------------------------\u001b[0m",
      "\u001b[1;31mValueError\u001b[0m                                Traceback (most recent call last)",
      "\u001b[1;32m<ipython-input-191-293375bc787f>\u001b[0m in \u001b[0;36m<module>\u001b[1;34m\u001b[0m\n\u001b[0;32m      1\u001b[0m \u001b[0mmodel\u001b[0m \u001b[1;33m=\u001b[0m \u001b[0mLogisticRegression\u001b[0m\u001b[1;33m(\u001b[0m\u001b[1;33m)\u001b[0m\u001b[1;33m\u001b[0m\u001b[1;33m\u001b[0m\u001b[0m\n\u001b[1;32m----> 2\u001b[1;33m \u001b[0mmodel\u001b[0m\u001b[1;33m.\u001b[0m\u001b[0mfit\u001b[0m\u001b[1;33m(\u001b[0m\u001b[0mX_train\u001b[0m\u001b[1;33m,\u001b[0m\u001b[0mY_train\u001b[0m\u001b[1;33m)\u001b[0m\u001b[1;33m\u001b[0m\u001b[1;33m\u001b[0m\u001b[0m\n\u001b[0m\u001b[0;32m      3\u001b[0m \u001b[0mperformance_met\u001b[0m\u001b[1;33m(\u001b[0m\u001b[0mmodel\u001b[0m\u001b[1;33m,\u001b[0m\u001b[0mX_train\u001b[0m\u001b[1;33m,\u001b[0m\u001b[0mY_train\u001b[0m\u001b[1;33m,\u001b[0m\u001b[0mX_test\u001b[0m\u001b[1;33m,\u001b[0m\u001b[0mY_test\u001b[0m\u001b[1;33m)\u001b[0m\u001b[1;33m\u001b[0m\u001b[1;33m\u001b[0m\u001b[0m\n",
      "\u001b[1;32m~\\anaconda3\\lib\\site-packages\\sklearn\\linear_model\\_logistic.py\u001b[0m in \u001b[0;36mfit\u001b[1;34m(self, X, y, sample_weight)\u001b[0m\n\u001b[0;32m   1506\u001b[0m             \u001b[0m_dtype\u001b[0m \u001b[1;33m=\u001b[0m \u001b[1;33m[\u001b[0m\u001b[0mnp\u001b[0m\u001b[1;33m.\u001b[0m\u001b[0mfloat64\u001b[0m\u001b[1;33m,\u001b[0m \u001b[0mnp\u001b[0m\u001b[1;33m.\u001b[0m\u001b[0mfloat32\u001b[0m\u001b[1;33m]\u001b[0m\u001b[1;33m\u001b[0m\u001b[1;33m\u001b[0m\u001b[0m\n\u001b[0;32m   1507\u001b[0m \u001b[1;33m\u001b[0m\u001b[0m\n\u001b[1;32m-> 1508\u001b[1;33m         X, y = self._validate_data(\n\u001b[0m\u001b[0;32m   1509\u001b[0m             \u001b[0mX\u001b[0m\u001b[1;33m,\u001b[0m\u001b[1;33m\u001b[0m\u001b[1;33m\u001b[0m\u001b[0m\n\u001b[0;32m   1510\u001b[0m             \u001b[0my\u001b[0m\u001b[1;33m,\u001b[0m\u001b[1;33m\u001b[0m\u001b[1;33m\u001b[0m\u001b[0m\n",
      "\u001b[1;32m~\\anaconda3\\lib\\site-packages\\sklearn\\base.py\u001b[0m in \u001b[0;36m_validate_data\u001b[1;34m(self, X, y, reset, validate_separately, **check_params)\u001b[0m\n\u001b[0;32m    579\u001b[0m                 \u001b[0my\u001b[0m \u001b[1;33m=\u001b[0m \u001b[0mcheck_array\u001b[0m\u001b[1;33m(\u001b[0m\u001b[0my\u001b[0m\u001b[1;33m,\u001b[0m \u001b[1;33m**\u001b[0m\u001b[0mcheck_y_params\u001b[0m\u001b[1;33m)\u001b[0m\u001b[1;33m\u001b[0m\u001b[1;33m\u001b[0m\u001b[0m\n\u001b[0;32m    580\u001b[0m             \u001b[1;32melse\u001b[0m\u001b[1;33m:\u001b[0m\u001b[1;33m\u001b[0m\u001b[1;33m\u001b[0m\u001b[0m\n\u001b[1;32m--> 581\u001b[1;33m                 \u001b[0mX\u001b[0m\u001b[1;33m,\u001b[0m \u001b[0my\u001b[0m \u001b[1;33m=\u001b[0m \u001b[0mcheck_X_y\u001b[0m\u001b[1;33m(\u001b[0m\u001b[0mX\u001b[0m\u001b[1;33m,\u001b[0m \u001b[0my\u001b[0m\u001b[1;33m,\u001b[0m \u001b[1;33m**\u001b[0m\u001b[0mcheck_params\u001b[0m\u001b[1;33m)\u001b[0m\u001b[1;33m\u001b[0m\u001b[1;33m\u001b[0m\u001b[0m\n\u001b[0m\u001b[0;32m    582\u001b[0m             \u001b[0mout\u001b[0m \u001b[1;33m=\u001b[0m \u001b[0mX\u001b[0m\u001b[1;33m,\u001b[0m \u001b[0my\u001b[0m\u001b[1;33m\u001b[0m\u001b[1;33m\u001b[0m\u001b[0m\n\u001b[0;32m    583\u001b[0m \u001b[1;33m\u001b[0m\u001b[0m\n",
      "\u001b[1;32m~\\anaconda3\\lib\\site-packages\\sklearn\\utils\\validation.py\u001b[0m in \u001b[0;36mcheck_X_y\u001b[1;34m(X, y, accept_sparse, accept_large_sparse, dtype, order, copy, force_all_finite, ensure_2d, allow_nd, multi_output, ensure_min_samples, ensure_min_features, y_numeric, estimator)\u001b[0m\n\u001b[0;32m    962\u001b[0m         \u001b[1;32mraise\u001b[0m \u001b[0mValueError\u001b[0m\u001b[1;33m(\u001b[0m\u001b[1;34m\"y cannot be None\"\u001b[0m\u001b[1;33m)\u001b[0m\u001b[1;33m\u001b[0m\u001b[1;33m\u001b[0m\u001b[0m\n\u001b[0;32m    963\u001b[0m \u001b[1;33m\u001b[0m\u001b[0m\n\u001b[1;32m--> 964\u001b[1;33m     X = check_array(\n\u001b[0m\u001b[0;32m    965\u001b[0m         \u001b[0mX\u001b[0m\u001b[1;33m,\u001b[0m\u001b[1;33m\u001b[0m\u001b[1;33m\u001b[0m\u001b[0m\n\u001b[0;32m    966\u001b[0m         \u001b[0maccept_sparse\u001b[0m\u001b[1;33m=\u001b[0m\u001b[0maccept_sparse\u001b[0m\u001b[1;33m,\u001b[0m\u001b[1;33m\u001b[0m\u001b[1;33m\u001b[0m\u001b[0m\n",
      "\u001b[1;32m~\\anaconda3\\lib\\site-packages\\sklearn\\utils\\validation.py\u001b[0m in \u001b[0;36mcheck_array\u001b[1;34m(array, accept_sparse, accept_large_sparse, dtype, order, copy, force_all_finite, ensure_2d, allow_nd, ensure_min_samples, ensure_min_features, estimator)\u001b[0m\n\u001b[0;32m    744\u001b[0m                     \u001b[0marray\u001b[0m \u001b[1;33m=\u001b[0m \u001b[0marray\u001b[0m\u001b[1;33m.\u001b[0m\u001b[0mastype\u001b[0m\u001b[1;33m(\u001b[0m\u001b[0mdtype\u001b[0m\u001b[1;33m,\u001b[0m \u001b[0mcasting\u001b[0m\u001b[1;33m=\u001b[0m\u001b[1;34m\"unsafe\"\u001b[0m\u001b[1;33m,\u001b[0m \u001b[0mcopy\u001b[0m\u001b[1;33m=\u001b[0m\u001b[1;32mFalse\u001b[0m\u001b[1;33m)\u001b[0m\u001b[1;33m\u001b[0m\u001b[1;33m\u001b[0m\u001b[0m\n\u001b[0;32m    745\u001b[0m                 \u001b[1;32melse\u001b[0m\u001b[1;33m:\u001b[0m\u001b[1;33m\u001b[0m\u001b[1;33m\u001b[0m\u001b[0m\n\u001b[1;32m--> 746\u001b[1;33m                     \u001b[0marray\u001b[0m \u001b[1;33m=\u001b[0m \u001b[0mnp\u001b[0m\u001b[1;33m.\u001b[0m\u001b[0masarray\u001b[0m\u001b[1;33m(\u001b[0m\u001b[0marray\u001b[0m\u001b[1;33m,\u001b[0m \u001b[0morder\u001b[0m\u001b[1;33m=\u001b[0m\u001b[0morder\u001b[0m\u001b[1;33m,\u001b[0m \u001b[0mdtype\u001b[0m\u001b[1;33m=\u001b[0m\u001b[0mdtype\u001b[0m\u001b[1;33m)\u001b[0m\u001b[1;33m\u001b[0m\u001b[1;33m\u001b[0m\u001b[0m\n\u001b[0m\u001b[0;32m    747\u001b[0m             \u001b[1;32mexcept\u001b[0m \u001b[0mComplexWarning\u001b[0m \u001b[1;32mas\u001b[0m \u001b[0mcomplex_warning\u001b[0m\u001b[1;33m:\u001b[0m\u001b[1;33m\u001b[0m\u001b[1;33m\u001b[0m\u001b[0m\n\u001b[0;32m    748\u001b[0m                 raise ValueError(\n",
      "\u001b[1;32m~\\anaconda3\\lib\\site-packages\\numpy\\core\\_asarray.py\u001b[0m in \u001b[0;36masarray\u001b[1;34m(a, dtype, order, like)\u001b[0m\n\u001b[0;32m    100\u001b[0m         \u001b[1;32mreturn\u001b[0m \u001b[0m_asarray_with_like\u001b[0m\u001b[1;33m(\u001b[0m\u001b[0ma\u001b[0m\u001b[1;33m,\u001b[0m \u001b[0mdtype\u001b[0m\u001b[1;33m=\u001b[0m\u001b[0mdtype\u001b[0m\u001b[1;33m,\u001b[0m \u001b[0morder\u001b[0m\u001b[1;33m=\u001b[0m\u001b[0morder\u001b[0m\u001b[1;33m,\u001b[0m \u001b[0mlike\u001b[0m\u001b[1;33m=\u001b[0m\u001b[0mlike\u001b[0m\u001b[1;33m)\u001b[0m\u001b[1;33m\u001b[0m\u001b[1;33m\u001b[0m\u001b[0m\n\u001b[0;32m    101\u001b[0m \u001b[1;33m\u001b[0m\u001b[0m\n\u001b[1;32m--> 102\u001b[1;33m     \u001b[1;32mreturn\u001b[0m \u001b[0marray\u001b[0m\u001b[1;33m(\u001b[0m\u001b[0ma\u001b[0m\u001b[1;33m,\u001b[0m \u001b[0mdtype\u001b[0m\u001b[1;33m,\u001b[0m \u001b[0mcopy\u001b[0m\u001b[1;33m=\u001b[0m\u001b[1;32mFalse\u001b[0m\u001b[1;33m,\u001b[0m \u001b[0morder\u001b[0m\u001b[1;33m=\u001b[0m\u001b[0morder\u001b[0m\u001b[1;33m)\u001b[0m\u001b[1;33m\u001b[0m\u001b[1;33m\u001b[0m\u001b[0m\n\u001b[0m\u001b[0;32m    103\u001b[0m \u001b[1;33m\u001b[0m\u001b[0m\n\u001b[0;32m    104\u001b[0m \u001b[1;33m\u001b[0m\u001b[0m\n",
      "\u001b[1;32m~\\anaconda3\\lib\\site-packages\\pandas\\core\\generic.py\u001b[0m in \u001b[0;36m__array__\u001b[1;34m(self, dtype)\u001b[0m\n\u001b[0;32m   1897\u001b[0m \u001b[1;33m\u001b[0m\u001b[0m\n\u001b[0;32m   1898\u001b[0m     \u001b[1;32mdef\u001b[0m \u001b[0m__array__\u001b[0m\u001b[1;33m(\u001b[0m\u001b[0mself\u001b[0m\u001b[1;33m,\u001b[0m \u001b[0mdtype\u001b[0m\u001b[1;33m=\u001b[0m\u001b[1;32mNone\u001b[0m\u001b[1;33m)\u001b[0m \u001b[1;33m->\u001b[0m \u001b[0mnp\u001b[0m\u001b[1;33m.\u001b[0m\u001b[0mndarray\u001b[0m\u001b[1;33m:\u001b[0m\u001b[1;33m\u001b[0m\u001b[1;33m\u001b[0m\u001b[0m\n\u001b[1;32m-> 1899\u001b[1;33m         \u001b[1;32mreturn\u001b[0m \u001b[0mnp\u001b[0m\u001b[1;33m.\u001b[0m\u001b[0masarray\u001b[0m\u001b[1;33m(\u001b[0m\u001b[0mself\u001b[0m\u001b[1;33m.\u001b[0m\u001b[0m_values\u001b[0m\u001b[1;33m,\u001b[0m \u001b[0mdtype\u001b[0m\u001b[1;33m=\u001b[0m\u001b[0mdtype\u001b[0m\u001b[1;33m)\u001b[0m\u001b[1;33m\u001b[0m\u001b[1;33m\u001b[0m\u001b[0m\n\u001b[0m\u001b[0;32m   1900\u001b[0m \u001b[1;33m\u001b[0m\u001b[0m\n\u001b[0;32m   1901\u001b[0m     def __array_wrap__(\n",
      "\u001b[1;32m~\\anaconda3\\lib\\site-packages\\numpy\\core\\_asarray.py\u001b[0m in \u001b[0;36masarray\u001b[1;34m(a, dtype, order, like)\u001b[0m\n\u001b[0;32m    100\u001b[0m         \u001b[1;32mreturn\u001b[0m \u001b[0m_asarray_with_like\u001b[0m\u001b[1;33m(\u001b[0m\u001b[0ma\u001b[0m\u001b[1;33m,\u001b[0m \u001b[0mdtype\u001b[0m\u001b[1;33m=\u001b[0m\u001b[0mdtype\u001b[0m\u001b[1;33m,\u001b[0m \u001b[0morder\u001b[0m\u001b[1;33m=\u001b[0m\u001b[0morder\u001b[0m\u001b[1;33m,\u001b[0m \u001b[0mlike\u001b[0m\u001b[1;33m=\u001b[0m\u001b[0mlike\u001b[0m\u001b[1;33m)\u001b[0m\u001b[1;33m\u001b[0m\u001b[1;33m\u001b[0m\u001b[0m\n\u001b[0;32m    101\u001b[0m \u001b[1;33m\u001b[0m\u001b[0m\n\u001b[1;32m--> 102\u001b[1;33m     \u001b[1;32mreturn\u001b[0m \u001b[0marray\u001b[0m\u001b[1;33m(\u001b[0m\u001b[0ma\u001b[0m\u001b[1;33m,\u001b[0m \u001b[0mdtype\u001b[0m\u001b[1;33m,\u001b[0m \u001b[0mcopy\u001b[0m\u001b[1;33m=\u001b[0m\u001b[1;32mFalse\u001b[0m\u001b[1;33m,\u001b[0m \u001b[0morder\u001b[0m\u001b[1;33m=\u001b[0m\u001b[0morder\u001b[0m\u001b[1;33m)\u001b[0m\u001b[1;33m\u001b[0m\u001b[1;33m\u001b[0m\u001b[0m\n\u001b[0m\u001b[0;32m    103\u001b[0m \u001b[1;33m\u001b[0m\u001b[0m\n\u001b[0;32m    104\u001b[0m \u001b[1;33m\u001b[0m\u001b[0m\n",
      "\u001b[1;31mValueError\u001b[0m: could not convert string to float: '0-200'"
     ]
    }
   ],
   "source": [
    "model = LogisticRegression()\n",
    "model.fit(X_train,Y_train) \n",
    "performance_met(model,X_train,Y_train,X_test,Y_test)\n"
   ]
  },
  {
   "cell_type": "code",
   "execution_count": 192,
   "id": "388bdb20",
   "metadata": {},
   "outputs": [],
   "source": [
    "df= pd.read_excel('C:/Users/Sonali.Sengupta/Desktop/Mortgage Insurance Cross Sell - Dataset & Case Description/Mortgage Insurance Cross Sell - Dataset & Case Description/Dataset - v1.xlsx').drop(columns=['code', 'prdt_desc','category'])\n",
    "\n",
    "\n",
    "\n",
    "\n",
    "Features= ['Age','Final_Grade1','Term','APR','Number_of_Dependants','Total_outstanding_balance__mortg' ,'Worst_status_L6m', 'Total___of_accounts']\n",
    "\n",
    "df = df[['Age','Final_Grade1','Term','APR','Number_of_Dependants','Total_outstanding_balance__mortg' ,'Worst_status_L6m', 'Total___of_accounts','PPI']]\n"
   ]
  },
  {
   "cell_type": "code",
   "execution_count": 193,
   "id": "42919580",
   "metadata": {},
   "outputs": [
    {
     "data": {
      "text/html": [
       "<div>\n",
       "<style scoped>\n",
       "    .dataframe tbody tr th:only-of-type {\n",
       "        vertical-align: middle;\n",
       "    }\n",
       "\n",
       "    .dataframe tbody tr th {\n",
       "        vertical-align: top;\n",
       "    }\n",
       "\n",
       "    .dataframe thead th {\n",
       "        text-align: right;\n",
       "    }\n",
       "</style>\n",
       "<table border=\"1\" class=\"dataframe\">\n",
       "  <thead>\n",
       "    <tr style=\"text-align: right;\">\n",
       "      <th></th>\n",
       "      <th>Age</th>\n",
       "      <th>Final_Grade1</th>\n",
       "      <th>Term</th>\n",
       "      <th>APR</th>\n",
       "      <th>Number_of_Dependants</th>\n",
       "      <th>Total_outstanding_balance__mortg Bucket</th>\n",
       "      <th>Worst_status_L6m</th>\n",
       "      <th>Total___of_accounts</th>\n",
       "      <th>PPI</th>\n",
       "    </tr>\n",
       "  </thead>\n",
       "  <tbody>\n",
       "    <tr>\n",
       "      <th>0</th>\n",
       "      <td>46</td>\n",
       "      <td>1</td>\n",
       "      <td>36</td>\n",
       "      <td>14.4</td>\n",
       "      <td>0</td>\n",
       "      <td>0-200</td>\n",
       "      <td>0</td>\n",
       "      <td>6</td>\n",
       "      <td>0</td>\n",
       "    </tr>\n",
       "    <tr>\n",
       "      <th>1</th>\n",
       "      <td>59</td>\n",
       "      <td>1</td>\n",
       "      <td>120</td>\n",
       "      <td>7.9</td>\n",
       "      <td>0</td>\n",
       "      <td>0-200</td>\n",
       "      <td>1</td>\n",
       "      <td>8</td>\n",
       "      <td>1</td>\n",
       "    </tr>\n",
       "    <tr>\n",
       "      <th>2</th>\n",
       "      <td>56</td>\n",
       "      <td>10</td>\n",
       "      <td>78</td>\n",
       "      <td>7.9</td>\n",
       "      <td>0</td>\n",
       "      <td>0-200</td>\n",
       "      <td>0</td>\n",
       "      <td>7</td>\n",
       "      <td>1</td>\n",
       "    </tr>\n",
       "    <tr>\n",
       "      <th>3</th>\n",
       "      <td>33</td>\n",
       "      <td>2</td>\n",
       "      <td>60</td>\n",
       "      <td>16.9</td>\n",
       "      <td>0</td>\n",
       "      <td>0-200</td>\n",
       "      <td>1</td>\n",
       "      <td>9</td>\n",
       "      <td>1</td>\n",
       "    </tr>\n",
       "    <tr>\n",
       "      <th>4</th>\n",
       "      <td>49</td>\n",
       "      <td>10</td>\n",
       "      <td>60</td>\n",
       "      <td>7.4</td>\n",
       "      <td>2</td>\n",
       "      <td>0-200</td>\n",
       "      <td>0</td>\n",
       "      <td>6</td>\n",
       "      <td>1</td>\n",
       "    </tr>\n",
       "  </tbody>\n",
       "</table>\n",
       "</div>"
      ],
      "text/plain": [
       "   Age  Final_Grade1  Term   APR  Number_of_Dependants  \\\n",
       "0   46             1    36  14.4                     0   \n",
       "1   59             1   120   7.9                     0   \n",
       "2   56            10    78   7.9                     0   \n",
       "3   33             2    60  16.9                     0   \n",
       "4   49            10    60   7.4                     2   \n",
       "\n",
       "  Total_outstanding_balance__mortg Bucket  Worst_status_L6m  \\\n",
       "0                                   0-200                 0   \n",
       "1                                   0-200                 1   \n",
       "2                                   0-200                 0   \n",
       "3                                   0-200                 1   \n",
       "4                                   0-200                 0   \n",
       "\n",
       "   Total___of_accounts  PPI  \n",
       "0                    6    0  \n",
       "1                    8    1  \n",
       "2                    7    1  \n",
       "3                    9    1  \n",
       "4                    6    1  "
      ]
     },
     "execution_count": 193,
     "metadata": {},
     "output_type": "execute_result"
    }
   ],
   "source": [
    "df.head()"
   ]
  },
  {
   "cell_type": "code",
   "execution_count": 194,
   "id": "106c31ae",
   "metadata": {},
   "outputs": [],
   "source": [
    "df= pd.read_excel('C:/Users/Sonali.Sengupta/Desktop/Mortgage Insurance Cross Sell - Dataset & Case Description/Mortgage Insurance Cross Sell - Dataset & Case Description/Dataset - v1.xlsx').drop(columns=['code', 'prdt_desc','category'])\n",
    "\n",
    "\n",
    "\n",
    "\n",
    "Features= ['Age','Final_Grade1','Term','APR','Number_of_Dependants','Total_outstanding_balance__mortg' ,'Worst_status_L6m', 'Total___of_accounts']\n",
    "\n",
    "df = df[['Age','Final_Grade1','Term','APR','Number_of_Dependants','Total_outstanding_balance__mortg' ,'Worst_status_L6m', 'Total___of_accounts','PPI']]\n"
   ]
  },
  {
   "cell_type": "code",
   "execution_count": 195,
   "id": "145dd02a",
   "metadata": {},
   "outputs": [],
   "source": [
    "from sklearn.model_selection import train_test_split \n",
    "X_train, X_test, Y_train, Y_test = train_test_split(df[Features],df['PPI'],\n",
    "                                   test_size = 0.3, random_state = 101) \n",
    "X_train.shape,X_test.shape\n",
    "\n",
    "\n",
    "def performance_met(model,X_train,Y_train,X_test,Y_test):\n",
    "\n",
    "    acc_train=accuracy_score(Y_train, model.predict(X_train))\n",
    "\n",
    "    f1_train=f1_score(Y_train, model.predict(X_train))\n",
    "\n",
    "    acc_test=accuracy_score(Y_test, model.predict(X_test))\n",
    "\n",
    "    f1_test=f1_score(Y_test, model.predict(X_test))\n",
    "\n",
    "    print(\"train score: accuracy:{} f1:{}\".format(acc_train,f1_train))\n",
    "\n",
    "    print(\"test score: accuracy:{} f1:{}\".format(acc_test,f1_test))\n",
    "\n"
   ]
  },
  {
   "cell_type": "code",
   "execution_count": 196,
   "id": "367bde41",
   "metadata": {},
   "outputs": [
    {
     "name": "stdout",
     "output_type": "stream",
     "text": [
      "train score: accuracy:0.6302755493547262 f1:0.7173333333333334\n",
      "test score: accuracy:0.6205493387589013 f1:0.7093657472339098\n"
     ]
    },
    {
     "name": "stderr",
     "output_type": "stream",
     "text": [
      "C:\\Users\\Sonali.Sengupta\\anaconda3\\lib\\site-packages\\sklearn\\linear_model\\_logistic.py:814: ConvergenceWarning: lbfgs failed to converge (status=1):\n",
      "STOP: TOTAL NO. of ITERATIONS REACHED LIMIT.\n",
      "\n",
      "Increase the number of iterations (max_iter) or scale the data as shown in:\n",
      "    https://scikit-learn.org/stable/modules/preprocessing.html\n",
      "Please also refer to the documentation for alternative solver options:\n",
      "    https://scikit-learn.org/stable/modules/linear_model.html#logistic-regression\n",
      "  n_iter_i = _check_optimize_result(\n"
     ]
    }
   ],
   "source": [
    "model = LogisticRegression()\n",
    "model.fit(X_train,Y_train) \n",
    "performance_met(model,X_train,Y_train,X_test,Y_test)\n"
   ]
  },
  {
   "cell_type": "code",
   "execution_count": 197,
   "id": "49a926f9",
   "metadata": {},
   "outputs": [
    {
     "name": "stdout",
     "output_type": "stream",
     "text": [
      "train score: accuracy:0.9985176142309033 f1:0.9987197831161985\n",
      "test score: accuracy:0.5725330620549339 f1:0.6247544204322201\n"
     ]
    }
   ],
   "source": [
    "model_DT=DecisionTreeClassifier(random_state=1) \n",
    "model_DT.fit(X_train,Y_train) \n",
    "performance_met(model_DT,X_train,Y_train,X_test,Y_test)"
   ]
  },
  {
   "cell_type": "code",
   "execution_count": 198,
   "id": "e72f68e0",
   "metadata": {},
   "outputs": [
    {
     "name": "stdout",
     "output_type": "stream",
     "text": [
      "train score: accuracy:0.9985176142309033 f1:0.9987226688706891\n",
      "test score: accuracy:0.6262461851475076 f1:0.6945968412302577\n"
     ]
    }
   ],
   "source": [
    "Forest= RandomForestClassifier(random_state=1) \n",
    "Forest.fit(X_train,Y_train) \n",
    "performance_met(Forest,X_train,Y_train,X_test,Y_test)"
   ]
  },
  {
   "cell_type": "code",
   "execution_count": null,
   "id": "b772f243",
   "metadata": {},
   "outputs": [],
   "source": []
  }
 ],
 "metadata": {
  "kernelspec": {
   "display_name": "Python 3",
   "language": "python",
   "name": "python3"
  },
  "language_info": {
   "codemirror_mode": {
    "name": "ipython",
    "version": 3
   },
   "file_extension": ".py",
   "mimetype": "text/x-python",
   "name": "python",
   "nbconvert_exporter": "python",
   "pygments_lexer": "ipython3",
   "version": "3.8.8"
  }
 },
 "nbformat": 4,
 "nbformat_minor": 5
}
